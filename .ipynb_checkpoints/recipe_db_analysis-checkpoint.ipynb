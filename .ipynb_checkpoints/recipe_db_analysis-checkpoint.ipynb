{
 "cells": [
  {
   "cell_type": "markdown",
   "id": "1008ea51-04b8-443e-9e61-5a392b37d5a7",
   "metadata": {
    "tags": []
   },
   "source": [
    "# Recipe Scraping Analysis "
   ]
  },
  {
   "cell_type": "code",
   "execution_count": 21,
   "id": "191a0642-877d-416d-a693-9ec4b68a3a45",
   "metadata": {
    "tags": []
   },
   "outputs": [],
   "source": [
    "from pymongo import MongoClient\n",
    "import pandas as pd \n",
    "pd.set_option('display.max_columns', None) \n",
    "from IPython.display import display \n",
    "from ingredient_parser import parse_ingredient\n",
    "import regex as re "
   ]
  },
  {
   "cell_type": "code",
   "execution_count": 2,
   "id": "20040392-2363-4f3f-8426-04e15c267784",
   "metadata": {
    "tags": []
   },
   "outputs": [
    {
     "name": "stdout",
     "output_type": "stream",
     "text": [
      "Collections: ['whatsgabycooking', 'sallysbakingaddiction', 'wellplated', 'acouplecooks_recipes', 'wedishitup', 'ahealthysliceoflife', 'abeautifulmess_recipes']\n"
     ]
    }
   ],
   "source": [
    "# Connect to MongoDB\n",
    "client = MongoClient()\n",
    "db = client['recipe_db']  # Replace with your database name\n",
    "\n",
    "# List all collections (tables)\n",
    "collections = db.list_collection_names()\n",
    "print(\"Collections:\", collections)"
   ]
  },
  {
   "cell_type": "code",
   "execution_count": 3,
   "id": "238fd0a4-e21c-47bd-9f37-e63ac851408a",
   "metadata": {
    "tags": []
   },
   "outputs": [],
   "source": [
    "# Function to convert all collections into a single DataFrame\n",
    "def load_all_collections(db):\n",
    "    all_data = []  # List to store all documents\n",
    "\n",
    "    for collection_name in db.list_collection_names():\n",
    "        collection = db[collection_name]  # Access collection\n",
    "        documents = list(collection.find())  # Convert to list\n",
    "        for doc in documents:\n",
    "            doc['_collection'] = collection_name  # Track source collection\n",
    "            doc.pop('_id', None)  # Remove MongoDB's default `_id`\n",
    "        all_data.extend(documents)\n",
    "\n",
    "    # Convert list of dicts to DataFrame\n",
    "    df = pd.DataFrame(all_data)\n",
    "    return df\n",
    "\n",
    "# Load into DataFrame\n",
    "df = load_all_collections(db)"
   ]
  },
  {
   "cell_type": "code",
   "execution_count": 4,
   "id": "1fcab33d-f136-4355-833d-69e1d7ddba0a",
   "metadata": {
    "tags": []
   },
   "outputs": [
    {
     "data": {
      "text/html": [
       "<div>\n",
       "<style scoped>\n",
       "    .dataframe tbody tr th:only-of-type {\n",
       "        vertical-align: middle;\n",
       "    }\n",
       "\n",
       "    .dataframe tbody tr th {\n",
       "        vertical-align: top;\n",
       "    }\n",
       "\n",
       "    .dataframe thead th {\n",
       "        text-align: right;\n",
       "    }\n",
       "</style>\n",
       "<table border=\"1\" class=\"dataframe\">\n",
       "  <thead>\n",
       "    <tr style=\"text-align: right;\">\n",
       "      <th></th>\n",
       "      <th>canonical_url</th>\n",
       "      <th>host</th>\n",
       "      <th>image</th>\n",
       "      <th>language</th>\n",
       "      <th>site_name</th>\n",
       "      <th>_collection</th>\n",
       "      <th>author</th>\n",
       "      <th>category</th>\n",
       "      <th>cook_time</th>\n",
       "      <th>cuisine</th>\n",
       "      <th>description</th>\n",
       "      <th>ingredient_groups</th>\n",
       "      <th>ingredients</th>\n",
       "      <th>instructions</th>\n",
       "      <th>instructions_list</th>\n",
       "      <th>keywords</th>\n",
       "      <th>nutrients</th>\n",
       "      <th>prep_time</th>\n",
       "      <th>ratings</th>\n",
       "      <th>ratings_count</th>\n",
       "      <th>title</th>\n",
       "      <th>total_time</th>\n",
       "      <th>yields</th>\n",
       "      <th>cooking_method</th>\n",
       "      <th>dietary_restrictions</th>\n",
       "      <th>equipment</th>\n",
       "    </tr>\n",
       "  </thead>\n",
       "  <tbody>\n",
       "    <tr>\n",
       "      <th>0</th>\n",
       "      <td>https://whatsgabycooking.com/meal-plan-week-20/</td>\n",
       "      <td>whatsgabycooking.com</td>\n",
       "      <td>https://whatsgabycooking.com/wp-content/upload...</td>\n",
       "      <td>en-US</td>\n",
       "      <td>What's Gaby Cooking</td>\n",
       "      <td>whatsgabycooking</td>\n",
       "      <td>NaN</td>\n",
       "      <td>NaN</td>\n",
       "      <td>NaN</td>\n",
       "      <td>NaN</td>\n",
       "      <td>NaN</td>\n",
       "      <td>NaN</td>\n",
       "      <td>NaN</td>\n",
       "      <td>NaN</td>\n",
       "      <td>NaN</td>\n",
       "      <td>NaN</td>\n",
       "      <td>NaN</td>\n",
       "      <td>NaN</td>\n",
       "      <td>NaN</td>\n",
       "      <td>NaN</td>\n",
       "      <td>NaN</td>\n",
       "      <td>NaN</td>\n",
       "      <td>NaN</td>\n",
       "      <td>NaN</td>\n",
       "      <td>NaN</td>\n",
       "      <td>NaN</td>\n",
       "    </tr>\n",
       "    <tr>\n",
       "      <th>1</th>\n",
       "      <td>https://whatsgabycooking.com/14-of-our-favorit...</td>\n",
       "      <td>whatsgabycooking.com</td>\n",
       "      <td>https://whatsgabycooking.com/wp-content/upload...</td>\n",
       "      <td>en-US</td>\n",
       "      <td>What's Gaby Cooking</td>\n",
       "      <td>whatsgabycooking</td>\n",
       "      <td>Gaby Dalkin</td>\n",
       "      <td>Dessert</td>\n",
       "      <td>20.0</td>\n",
       "      <td>American</td>\n",
       "      <td>Strawberry Blueberry Shortcakes are the desser...</td>\n",
       "      <td>[{'ingredients': ['3 cups all purpose flour', ...</td>\n",
       "      <td>[3 cups all purpose flour, 2 teaspoons lemon z...</td>\n",
       "      <td>For the Biscuits\\nCombine the flour, lemon zes...</td>\n",
       "      <td>[For the Biscuits, Combine the flour, lemon ze...</td>\n",
       "      <td>[strawberry shortcake, blueberry shortcake]</td>\n",
       "      <td>{'calories': '731 kcal', 'carbohydrateContent'...</td>\n",
       "      <td>15.0</td>\n",
       "      <td>5.00</td>\n",
       "      <td>1.0</td>\n",
       "      <td>Strawberry Blueberry Shortcakes</td>\n",
       "      <td>35.0</td>\n",
       "      <td>9 servings</td>\n",
       "      <td>NaN</td>\n",
       "      <td>NaN</td>\n",
       "      <td>NaN</td>\n",
       "    </tr>\n",
       "    <tr>\n",
       "      <th>2</th>\n",
       "      <td>https://whatsgabycooking.com/raspberry-brownies/</td>\n",
       "      <td>whatsgabycooking.com</td>\n",
       "      <td>https://whatsgabycooking.com/wp-content/upload...</td>\n",
       "      <td>en-US</td>\n",
       "      <td>What's Gaby Cooking</td>\n",
       "      <td>whatsgabycooking</td>\n",
       "      <td>Gaby Dalkin</td>\n",
       "      <td>Dessert</td>\n",
       "      <td>50.0</td>\n",
       "      <td>American</td>\n",
       "      <td>These Raspberry Swirled Brownies are the most ...</td>\n",
       "      <td>[{'ingredients': ['240 grams dark chocolate (a...</td>\n",
       "      <td>[240 grams dark chocolate (approximately 1½ cu...</td>\n",
       "      <td>Preheat the oven to 325° F.\\nCombine the choco...</td>\n",
       "      <td>[Preheat the oven to 325° F., Combine the choc...</td>\n",
       "      <td>[brownies, raspberry brownies, how to make bro...</td>\n",
       "      <td>{'calories': '358 kcal', 'carbohydrateContent'...</td>\n",
       "      <td>10.0</td>\n",
       "      <td>4.67</td>\n",
       "      <td>21.0</td>\n",
       "      <td>Raspberry Swirled Brownies</td>\n",
       "      <td>195.0</td>\n",
       "      <td>16 servings</td>\n",
       "      <td>NaN</td>\n",
       "      <td>NaN</td>\n",
       "      <td>NaN</td>\n",
       "    </tr>\n",
       "    <tr>\n",
       "      <th>3</th>\n",
       "      <td>https://whatsgabycooking.com/pineapple-sheet-c...</td>\n",
       "      <td>whatsgabycooking.com</td>\n",
       "      <td>https://whatsgabycooking.com/wp-content/upload...</td>\n",
       "      <td>en-US</td>\n",
       "      <td>What's Gaby Cooking</td>\n",
       "      <td>whatsgabycooking</td>\n",
       "      <td>Gaby Dalkin</td>\n",
       "      <td>Dessert</td>\n",
       "      <td>35.0</td>\n",
       "      <td>American</td>\n",
       "      <td>Pineapple Sheet Cake – the breakfast and desse...</td>\n",
       "      <td>[{'ingredients': ['2 cups white sugar', '2 egg...</td>\n",
       "      <td>[2 cups white sugar, 2 eggs (at room temperatu...</td>\n",
       "      <td>Preheat the oven to 350 degrees F.\\nLine a 9x1...</td>\n",
       "      <td>[Preheat the oven to 350 degrees F., Line a 9x...</td>\n",
       "      <td>[cream cheese frosting, pineapple sheet cake]</td>\n",
       "      <td>{'calories': '233 kcal', 'carbohydrateContent'...</td>\n",
       "      <td>15.0</td>\n",
       "      <td>4.81</td>\n",
       "      <td>21.0</td>\n",
       "      <td>Pineapple Sheet Cake with Cream Cheese Frosting</td>\n",
       "      <td>50.0</td>\n",
       "      <td>20 servings</td>\n",
       "      <td>NaN</td>\n",
       "      <td>NaN</td>\n",
       "      <td>NaN</td>\n",
       "    </tr>\n",
       "    <tr>\n",
       "      <th>4</th>\n",
       "      <td>https://whatsgabycooking.com/magic-bar-brownies/</td>\n",
       "      <td>whatsgabycooking.com</td>\n",
       "      <td>https://whatsgabycooking.com/wp-content/upload...</td>\n",
       "      <td>en-US</td>\n",
       "      <td>What's Gaby Cooking</td>\n",
       "      <td>whatsgabycooking</td>\n",
       "      <td>Gaby Dalkin</td>\n",
       "      <td>Dessert,Snack</td>\n",
       "      <td>60.0</td>\n",
       "      <td>American</td>\n",
       "      <td>Magic Bar Brownies have been big since before ...</td>\n",
       "      <td>[{'ingredients': ['240 grams dark chocolate (a...</td>\n",
       "      <td>[240 grams dark chocolate (approx 1½ cups regu...</td>\n",
       "      <td>Preheat the oven to 325° F. Line a 9×13 pan wi...</td>\n",
       "      <td>[Preheat the oven to 325° F. Line a 9×13 pan w...</td>\n",
       "      <td>[best brownies]</td>\n",
       "      <td>{'calories': '611 kcal', 'carbohydrateContent'...</td>\n",
       "      <td>30.0</td>\n",
       "      <td>5.00</td>\n",
       "      <td>3.0</td>\n",
       "      <td>Magic Bar Brownies</td>\n",
       "      <td>90.0</td>\n",
       "      <td>16 servings</td>\n",
       "      <td>NaN</td>\n",
       "      <td>NaN</td>\n",
       "      <td>NaN</td>\n",
       "    </tr>\n",
       "  </tbody>\n",
       "</table>\n",
       "</div>"
      ],
      "text/plain": [
       "                                       canonical_url                  host  \\\n",
       "0    https://whatsgabycooking.com/meal-plan-week-20/  whatsgabycooking.com   \n",
       "1  https://whatsgabycooking.com/14-of-our-favorit...  whatsgabycooking.com   \n",
       "2   https://whatsgabycooking.com/raspberry-brownies/  whatsgabycooking.com   \n",
       "3  https://whatsgabycooking.com/pineapple-sheet-c...  whatsgabycooking.com   \n",
       "4   https://whatsgabycooking.com/magic-bar-brownies/  whatsgabycooking.com   \n",
       "\n",
       "                                               image language  \\\n",
       "0  https://whatsgabycooking.com/wp-content/upload...    en-US   \n",
       "1  https://whatsgabycooking.com/wp-content/upload...    en-US   \n",
       "2  https://whatsgabycooking.com/wp-content/upload...    en-US   \n",
       "3  https://whatsgabycooking.com/wp-content/upload...    en-US   \n",
       "4  https://whatsgabycooking.com/wp-content/upload...    en-US   \n",
       "\n",
       "             site_name       _collection       author       category  \\\n",
       "0  What's Gaby Cooking  whatsgabycooking          NaN            NaN   \n",
       "1  What's Gaby Cooking  whatsgabycooking  Gaby Dalkin        Dessert   \n",
       "2  What's Gaby Cooking  whatsgabycooking  Gaby Dalkin        Dessert   \n",
       "3  What's Gaby Cooking  whatsgabycooking  Gaby Dalkin        Dessert   \n",
       "4  What's Gaby Cooking  whatsgabycooking  Gaby Dalkin  Dessert,Snack   \n",
       "\n",
       "   cook_time   cuisine                                        description  \\\n",
       "0        NaN       NaN                                                NaN   \n",
       "1       20.0  American  Strawberry Blueberry Shortcakes are the desser...   \n",
       "2       50.0  American  These Raspberry Swirled Brownies are the most ...   \n",
       "3       35.0  American  Pineapple Sheet Cake – the breakfast and desse...   \n",
       "4       60.0  American  Magic Bar Brownies have been big since before ...   \n",
       "\n",
       "                                   ingredient_groups  \\\n",
       "0                                                NaN   \n",
       "1  [{'ingredients': ['3 cups all purpose flour', ...   \n",
       "2  [{'ingredients': ['240 grams dark chocolate (a...   \n",
       "3  [{'ingredients': ['2 cups white sugar', '2 egg...   \n",
       "4  [{'ingredients': ['240 grams dark chocolate (a...   \n",
       "\n",
       "                                         ingredients  \\\n",
       "0                                                NaN   \n",
       "1  [3 cups all purpose flour, 2 teaspoons lemon z...   \n",
       "2  [240 grams dark chocolate (approximately 1½ cu...   \n",
       "3  [2 cups white sugar, 2 eggs (at room temperatu...   \n",
       "4  [240 grams dark chocolate (approx 1½ cups regu...   \n",
       "\n",
       "                                        instructions  \\\n",
       "0                                                NaN   \n",
       "1  For the Biscuits\\nCombine the flour, lemon zes...   \n",
       "2  Preheat the oven to 325° F.\\nCombine the choco...   \n",
       "3  Preheat the oven to 350 degrees F.\\nLine a 9x1...   \n",
       "4  Preheat the oven to 325° F. Line a 9×13 pan wi...   \n",
       "\n",
       "                                   instructions_list  \\\n",
       "0                                                NaN   \n",
       "1  [For the Biscuits, Combine the flour, lemon ze...   \n",
       "2  [Preheat the oven to 325° F., Combine the choc...   \n",
       "3  [Preheat the oven to 350 degrees F., Line a 9x...   \n",
       "4  [Preheat the oven to 325° F. Line a 9×13 pan w...   \n",
       "\n",
       "                                            keywords  \\\n",
       "0                                                NaN   \n",
       "1        [strawberry shortcake, blueberry shortcake]   \n",
       "2  [brownies, raspberry brownies, how to make bro...   \n",
       "3      [cream cheese frosting, pineapple sheet cake]   \n",
       "4                                    [best brownies]   \n",
       "\n",
       "                                           nutrients  prep_time  ratings  \\\n",
       "0                                                NaN        NaN      NaN   \n",
       "1  {'calories': '731 kcal', 'carbohydrateContent'...       15.0     5.00   \n",
       "2  {'calories': '358 kcal', 'carbohydrateContent'...       10.0     4.67   \n",
       "3  {'calories': '233 kcal', 'carbohydrateContent'...       15.0     4.81   \n",
       "4  {'calories': '611 kcal', 'carbohydrateContent'...       30.0     5.00   \n",
       "\n",
       "   ratings_count                                            title  total_time  \\\n",
       "0            NaN                                              NaN         NaN   \n",
       "1            1.0                  Strawberry Blueberry Shortcakes        35.0   \n",
       "2           21.0                       Raspberry Swirled Brownies       195.0   \n",
       "3           21.0  Pineapple Sheet Cake with Cream Cheese Frosting        50.0   \n",
       "4            3.0                               Magic Bar Brownies        90.0   \n",
       "\n",
       "        yields cooking_method dietary_restrictions equipment  \n",
       "0          NaN            NaN                  NaN       NaN  \n",
       "1   9 servings            NaN                  NaN       NaN  \n",
       "2  16 servings            NaN                  NaN       NaN  \n",
       "3  20 servings            NaN                  NaN       NaN  \n",
       "4  16 servings            NaN                  NaN       NaN  "
      ]
     },
     "execution_count": 4,
     "metadata": {},
     "output_type": "execute_result"
    }
   ],
   "source": [
    "df.head()"
   ]
  },
  {
   "cell_type": "code",
   "execution_count": 5,
   "id": "e9d8cb68-cb5c-40fe-8e3a-965a0e61a0d9",
   "metadata": {
    "tags": []
   },
   "outputs": [],
   "source": [
    "# data cleaning"
   ]
  },
  {
   "cell_type": "code",
   "execution_count": 6,
   "id": "2436b83b-46c0-409e-a0d9-f515ae0eea0d",
   "metadata": {
    "tags": []
   },
   "outputs": [
    {
     "name": "stdout",
     "output_type": "stream",
     "text": [
      "<class 'pandas.core.frame.DataFrame'>\n",
      "RangeIndex: 9848 entries, 0 to 9847\n",
      "Data columns (total 26 columns):\n",
      " #   Column                Non-Null Count  Dtype  \n",
      "---  ------                --------------  -----  \n",
      " 0   canonical_url         9848 non-null   object \n",
      " 1   host                  9848 non-null   object \n",
      " 2   image                 9823 non-null   object \n",
      " 3   language              9848 non-null   object \n",
      " 4   site_name             9848 non-null   object \n",
      " 5   _collection           9848 non-null   object \n",
      " 6   author                8916 non-null   object \n",
      " 7   category              8470 non-null   object \n",
      " 8   cook_time             6030 non-null   float64\n",
      " 9   cuisine               8346 non-null   object \n",
      " 10  description           8915 non-null   object \n",
      " 11  ingredient_groups     8923 non-null   object \n",
      " 12  ingredients           8930 non-null   object \n",
      " 13  instructions          9000 non-null   object \n",
      " 14  instructions_list     9000 non-null   object \n",
      " 15  keywords              8468 non-null   object \n",
      " 16  nutrients             8916 non-null   object \n",
      " 17  prep_time             8242 non-null   float64\n",
      " 18  ratings               7401 non-null   float64\n",
      " 19  ratings_count         7401 non-null   float64\n",
      " 20  title                 8916 non-null   object \n",
      " 21  total_time            8349 non-null   float64\n",
      " 22  yields                8581 non-null   object \n",
      " 23  cooking_method        4408 non-null   object \n",
      " 24  dietary_restrictions  2195 non-null   object \n",
      " 25  equipment             714 non-null    object \n",
      "dtypes: float64(5), object(21)\n",
      "memory usage: 2.0+ MB\n"
     ]
    }
   ],
   "source": [
    "df.info()"
   ]
  },
  {
   "cell_type": "code",
   "execution_count": 7,
   "id": "29829ff8-9dab-44f8-aa9b-3be097959d14",
   "metadata": {
    "tags": []
   },
   "outputs": [],
   "source": [
    "df = df[\n",
    "    ~((df['ingredients'].isna()) | df['ingredients'].astype(str).isin(['{}', '[]'])) & \n",
    "    ~((df['instructions'].isna()) | df['instructions'].astype(str).isin(['{}', '[]']))\n",
    "]"
   ]
  },
  {
   "cell_type": "code",
   "execution_count": 8,
   "id": "a649cad2-7c3f-4afb-aaf5-cdbd452ffab3",
   "metadata": {
    "tags": []
   },
   "outputs": [
    {
     "name": "stdout",
     "output_type": "stream",
     "text": [
      "<class 'pandas.core.frame.DataFrame'>\n",
      "Int64Index: 8819 entries, 1 to 9847\n",
      "Data columns (total 26 columns):\n",
      " #   Column                Non-Null Count  Dtype  \n",
      "---  ------                --------------  -----  \n",
      " 0   canonical_url         8819 non-null   object \n",
      " 1   host                  8819 non-null   object \n",
      " 2   image                 8819 non-null   object \n",
      " 3   language              8819 non-null   object \n",
      " 4   site_name             8819 non-null   object \n",
      " 5   _collection           8819 non-null   object \n",
      " 6   author                8819 non-null   object \n",
      " 7   category              8445 non-null   object \n",
      " 8   cook_time             5965 non-null   float64\n",
      " 9   cuisine               8329 non-null   object \n",
      " 10  description           8818 non-null   object \n",
      " 11  ingredient_groups     8812 non-null   object \n",
      " 12  ingredients           8819 non-null   object \n",
      " 13  instructions          8819 non-null   object \n",
      " 14  instructions_list     8819 non-null   object \n",
      " 15  keywords              8447 non-null   object \n",
      " 16  nutrients             8819 non-null   object \n",
      " 17  prep_time             8154 non-null   float64\n",
      " 18  ratings               7341 non-null   float64\n",
      " 19  ratings_count         7341 non-null   float64\n",
      " 20  title                 8819 non-null   object \n",
      " 21  total_time            8260 non-null   float64\n",
      " 22  yields                8502 non-null   object \n",
      " 23  cooking_method        4407 non-null   object \n",
      " 24  dietary_restrictions  2195 non-null   object \n",
      " 25  equipment             713 non-null    object \n",
      "dtypes: float64(5), object(21)\n",
      "memory usage: 1.8+ MB\n"
     ]
    }
   ],
   "source": [
    "df.info()"
   ]
  },
  {
   "cell_type": "code",
   "execution_count": 9,
   "id": "3cb4233c-9f5c-4b15-8994-93a38a8a0c9e",
   "metadata": {
    "tags": []
   },
   "outputs": [
    {
     "data": {
      "text/plain": [
       "Main Course                    686\n",
       "Dessert                        676\n",
       "Side Dish                      433\n",
       "Breakfast                      353\n",
       "Main Dish                      323\n",
       "                              ... \n",
       "Breakfast,Drinks,Smoothie        1\n",
       "Snacks                           1\n",
       "Appetizer,Snack,Lunch            1\n",
       "Main Course,Lunch,Breakfast      1\n",
       "brunch,Drinks                    1\n",
       "Name: category, Length: 241, dtype: int64"
      ]
     },
     "execution_count": 9,
     "metadata": {},
     "output_type": "execute_result"
    }
   ],
   "source": [
    "nutrition_df = df[df['nutrients']!= {}] # 5k recipes not bad \n",
    "nutrition_df['category'].value_counts()"
   ]
  },
  {
   "cell_type": "code",
   "execution_count": 10,
   "id": "72e2e8b9-b442-487b-a9ae-552ff5748589",
   "metadata": {
    "tags": []
   },
   "outputs": [
    {
     "name": "stdout",
     "output_type": "stream",
     "text": [
      "<class 'pandas.core.frame.DataFrame'>\n",
      "Int64Index: 5582 entries, 1 to 9847\n",
      "Data columns (total 26 columns):\n",
      " #   Column                Non-Null Count  Dtype  \n",
      "---  ------                --------------  -----  \n",
      " 0   canonical_url         5582 non-null   object \n",
      " 1   host                  5582 non-null   object \n",
      " 2   image                 5582 non-null   object \n",
      " 3   language              5582 non-null   object \n",
      " 4   site_name             5582 non-null   object \n",
      " 5   _collection           5582 non-null   object \n",
      " 6   author                5582 non-null   object \n",
      " 7   category              5544 non-null   object \n",
      " 8   cook_time             4153 non-null   float64\n",
      " 9   cuisine               5481 non-null   object \n",
      " 10  description           5582 non-null   object \n",
      " 11  ingredient_groups     5578 non-null   object \n",
      " 12  ingredients           5582 non-null   object \n",
      " 13  instructions          5582 non-null   object \n",
      " 14  instructions_list     5582 non-null   object \n",
      " 15  keywords              5535 non-null   object \n",
      " 16  nutrients             5582 non-null   object \n",
      " 17  prep_time             5383 non-null   float64\n",
      " 18  ratings               4917 non-null   float64\n",
      " 19  ratings_count         4917 non-null   float64\n",
      " 20  title                 5582 non-null   object \n",
      " 21  total_time            5455 non-null   float64\n",
      " 22  yields                5542 non-null   object \n",
      " 23  cooking_method        1945 non-null   object \n",
      " 24  dietary_restrictions  1250 non-null   object \n",
      " 25  equipment             490 non-null    object \n",
      "dtypes: float64(5), object(21)\n",
      "memory usage: 1.1+ MB\n"
     ]
    }
   ],
   "source": [
    "nutrition_df.info()"
   ]
  },
  {
   "cell_type": "code",
   "execution_count": 11,
   "id": "542b7a7a-f675-433d-89c3-fb08e8520e7f",
   "metadata": {
    "tags": []
   },
   "outputs": [
    {
     "name": "stdout",
     "output_type": "stream",
     "text": [
      "[{'ingredients': ['3 cups all purpose flour', '2 teaspoons lemon zest', '3 tablespoons granulated sugar', '1 1/2 tablespoons baking powder', '1 teaspoon salt', '12 tablespoons cold unsalted butter (cut into small pieces)', '1 1/2 cups heavy cream', '1 1/2 teaspoons vanilla extract'], 'purpose': 'For the Shortcakes'}, {'ingredients': ['1 pound strawberries (tops removed and sliced)', '1/3 cup white sugar', '1 pint blueberries'], 'purpose': 'For the Strawberries + Blueberries'}, {'ingredients': ['2 cups heavy cream', '2/3 cup powdered sugar', '2 teaspoons vanilla extract'], 'purpose': 'For the Cream'}]\n"
     ]
    }
   ],
   "source": [
    "print(nutrition_df['ingredient_groups'].loc[1])"
   ]
  },
  {
   "cell_type": "code",
   "execution_count": 12,
   "id": "97daae7e-64a4-44c0-9ae2-ca4f4719862a",
   "metadata": {
    "tags": []
   },
   "outputs": [
    {
     "data": {
      "text/plain": [
       "['3 cups all purpose flour',\n",
       " '2 teaspoons lemon zest',\n",
       " '3 tablespoons granulated sugar',\n",
       " '1 1/2 tablespoons baking powder',\n",
       " '1 teaspoon salt',\n",
       " '12 tablespoons cold unsalted butter (cut into small pieces)',\n",
       " '1 1/2 cups heavy cream',\n",
       " '1 1/2 teaspoons vanilla extract',\n",
       " '1 pound strawberries (tops removed and sliced)',\n",
       " '1/3 cup white sugar',\n",
       " '1 pint blueberries',\n",
       " '2 cups heavy cream',\n",
       " '2/3 cup powdered sugar',\n",
       " '2 teaspoons vanilla extract']"
      ]
     },
     "execution_count": 12,
     "metadata": {},
     "output_type": "execute_result"
    }
   ],
   "source": [
    "nutrition_df['ingredients'].loc[1]"
   ]
  },
  {
   "cell_type": "code",
   "execution_count": 13,
   "id": "f5fc2ccd-e5ed-4899-87c3-be728740ddbb",
   "metadata": {
    "tags": []
   },
   "outputs": [
    {
     "data": {
      "text/html": [
       "<div>\n",
       "<style scoped>\n",
       "    .dataframe tbody tr th:only-of-type {\n",
       "        vertical-align: middle;\n",
       "    }\n",
       "\n",
       "    .dataframe tbody tr th {\n",
       "        vertical-align: top;\n",
       "    }\n",
       "\n",
       "    .dataframe thead th {\n",
       "        text-align: right;\n",
       "    }\n",
       "</style>\n",
       "<table border=\"1\" class=\"dataframe\">\n",
       "  <thead>\n",
       "    <tr style=\"text-align: right;\">\n",
       "      <th></th>\n",
       "      <th>ingredients</th>\n",
       "      <th>nutrients</th>\n",
       "      <th>dietary_restrictions</th>\n",
       "    </tr>\n",
       "  </thead>\n",
       "  <tbody>\n",
       "    <tr>\n",
       "      <th>1</th>\n",
       "      <td>[3 cups all purpose flour, 2 teaspoons lemon z...</td>\n",
       "      <td>{'calories': '731 kcal', 'carbohydrateContent'...</td>\n",
       "      <td>NaN</td>\n",
       "    </tr>\n",
       "    <tr>\n",
       "      <th>2</th>\n",
       "      <td>[240 grams dark chocolate (approximately 1½ cu...</td>\n",
       "      <td>{'calories': '358 kcal', 'carbohydrateContent'...</td>\n",
       "      <td>NaN</td>\n",
       "    </tr>\n",
       "    <tr>\n",
       "      <th>3</th>\n",
       "      <td>[2 cups white sugar, 2 eggs (at room temperatu...</td>\n",
       "      <td>{'calories': '233 kcal', 'carbohydrateContent'...</td>\n",
       "      <td>NaN</td>\n",
       "    </tr>\n",
       "    <tr>\n",
       "      <th>4</th>\n",
       "      <td>[240 grams dark chocolate (approx 1½ cups regu...</td>\n",
       "      <td>{'calories': '611 kcal', 'carbohydrateContent'...</td>\n",
       "      <td>NaN</td>\n",
       "    </tr>\n",
       "    <tr>\n",
       "      <th>5</th>\n",
       "      <td>[2 ripe peaches, 2 ripe nectarines, canola oil...</td>\n",
       "      <td>{'calories': '166 kcal', 'carbohydrateContent'...</td>\n",
       "      <td>NaN</td>\n",
       "    </tr>\n",
       "  </tbody>\n",
       "</table>\n",
       "</div>"
      ],
      "text/plain": [
       "                                         ingredients  \\\n",
       "1  [3 cups all purpose flour, 2 teaspoons lemon z...   \n",
       "2  [240 grams dark chocolate (approximately 1½ cu...   \n",
       "3  [2 cups white sugar, 2 eggs (at room temperatu...   \n",
       "4  [240 grams dark chocolate (approx 1½ cups regu...   \n",
       "5  [2 ripe peaches, 2 ripe nectarines, canola oil...   \n",
       "\n",
       "                                           nutrients dietary_restrictions  \n",
       "1  {'calories': '731 kcal', 'carbohydrateContent'...                  NaN  \n",
       "2  {'calories': '358 kcal', 'carbohydrateContent'...                  NaN  \n",
       "3  {'calories': '233 kcal', 'carbohydrateContent'...                  NaN  \n",
       "4  {'calories': '611 kcal', 'carbohydrateContent'...                  NaN  \n",
       "5  {'calories': '166 kcal', 'carbohydrateContent'...                  NaN  "
      ]
     },
     "execution_count": 13,
     "metadata": {},
     "output_type": "execute_result"
    }
   ],
   "source": [
    "indr = nutrition_df[['ingredients', 'nutrients', 'dietary_restrictions']]\n",
    "indr.head()"
   ]
  },
  {
   "cell_type": "code",
   "execution_count": 24,
   "id": "72b6368b-658f-4a5f-af80-1e7eb7bfb9b1",
   "metadata": {},
   "outputs": [],
   "source": [
    "# establish all ingredient names \n",
    "\n",
    "def extract_text_with_spaces(string):\n",
    "    \"\"\"Extract only letters, commas, and spaces from a given string.\"\"\"\n",
    "    return ' '.join(re.findall(r'[A-Za-z,]+', string))"
   ]
  },
  {
   "cell_type": "code",
   "execution_count": 31,
   "id": "df06bc47-543d-482f-8245-5b0c70fa36aa",
   "metadata": {
    "tags": []
   },
   "outputs": [
    {
     "data": {
      "text/plain": [
       "['',\n",
       " ' pound bacon cooked and crumbled ',\n",
       " ' when in season ',\n",
       " ' cups shredded Monterey Jack cheese ',\n",
       " 'cups farro ',\n",
       " ' Gala',\n",
       " ' large green zucchini squash ',\n",
       " ' pounds Yukon gold potatoes ',\n",
       " ' sour cream or vegan sour cream or cashew cream ',\n",
       " ' cup shredded Monterey Jack cheese ']"
      ]
     },
     "execution_count": 31,
     "metadata": {},
     "output_type": "execute_result"
    }
   ],
   "source": [
    "ingredient_lists = indr['ingredients'].to_list()\n",
    "ingredients_list = []\n",
    "for i in ingredient_lists:\n",
    "    ingredients_stripped = extract_text_with_spaces(str(i)).split(',')\n",
    "    ingredients_list+=ingredients_stripped\n",
    "    \n",
    "all_ingredients = list(set(ingredients_list))\n",
    "all_ingredients[:10]"
   ]
  },
  {
   "cell_type": "code",
   "execution_count": 57,
   "id": "f56db977-6033-4492-8f8e-fe4745853b32",
   "metadata": {
    "tags": []
   },
   "outputs": [
    {
     "name": "stdout",
     "output_type": "stream",
     "text": [
      "ingredient in recipe:  when in season \n",
      "proposed ingredient: when in season\n"
     ]
    },
    {
     "name": "stdin",
     "output_type": "stream",
     "text": [
      "if changing ingredient type new name, else hit space /\n"
     ]
    },
    {
     "name": "stdout",
     "output_type": "stream",
     "text": [
      "ingredient in recipe:  cup half and half or heavy cream if you want to make this outrageously decadent \n",
      "proposed ingredient: half and half\n"
     ]
    },
    {
     "name": "stdin",
     "output_type": "stream",
     "text": [
      "if changing ingredient type new name, else hit space \n"
     ]
    },
    {
     "ename": "IndexError",
     "evalue": "string index out of range",
     "output_type": "error",
     "traceback": [
      "\u001b[0;31m---------------------------------------------------------------------------\u001b[0m",
      "\u001b[0;31mIndexError\u001b[0m                                Traceback (most recent call last)",
      "Cell \u001b[0;32mIn[57], line 11\u001b[0m\n\u001b[1;32m      9\u001b[0m \u001b[38;5;28mprint\u001b[39m(\u001b[38;5;124mf\u001b[39m\u001b[38;5;124m\"\u001b[39m\u001b[38;5;124mingredient in recipe: \u001b[39m\u001b[38;5;132;01m{\u001b[39;00ming\u001b[38;5;132;01m}\u001b[39;00m\u001b[38;5;130;01m\\n\u001b[39;00m\u001b[38;5;124mproposed ingredient: \u001b[39m\u001b[38;5;132;01m{\u001b[39;00minfo_name\u001b[38;5;132;01m}\u001b[39;00m\u001b[38;5;124m\"\u001b[39m)\n\u001b[1;32m     10\u001b[0m response \u001b[38;5;241m=\u001b[39m \u001b[38;5;28minput\u001b[39m(\u001b[38;5;124m\"\u001b[39m\u001b[38;5;124mif changing ingredient type new name, else hit space\u001b[39m\u001b[38;5;124m\"\u001b[39m)\n\u001b[0;32m---> 11\u001b[0m \u001b[38;5;28;01mif\u001b[39;00m response[\u001b[38;5;241m0\u001b[39m] \u001b[38;5;241m==\u001b[39m \u001b[38;5;124m'\u001b[39m\u001b[38;5;124m \u001b[39m\u001b[38;5;124m'\u001b[39m:\n\u001b[1;32m     12\u001b[0m     unique_ingredient_columns\u001b[38;5;241m.\u001b[39madd(info_name)\n\u001b[1;32m     13\u001b[0m \u001b[38;5;28;01melif\u001b[39;00m response[\u001b[38;5;241m0\u001b[39m] \u001b[38;5;241m==\u001b[39m \u001b[38;5;124m'\u001b[39m\u001b[38;5;124m/\u001b[39m\u001b[38;5;124m'\u001b[39m:\n",
      "\u001b[0;31mIndexError\u001b[0m: string index out of range"
     ]
    }
   ],
   "source": [
    "unique_ingredient_columns = set()\n",
    "fixed_ings = []\n",
    "for ing in all_ingredients:\n",
    "    info = parse_ingredient(ing)\n",
    "    if info.name != []:\n",
    "        info_name = info.name[0].text.lower()\n",
    "        if info_name not in unique_ingredient_columns and info_name not in fixed_ings :\n",
    "            if info.name[0].confidence < .80:\n",
    "                print(f\"ingredient in recipe: {ing}\\nproposed ingredient: {info_name}\")\n",
    "                response = input(\"if changing ingredient type new name, else enter\")\n",
    "                if response == '':\n",
    "                    unique_ingredient_columns.add(info_name)\n",
    "                elif response[0] == '/':\n",
    "                    continue\n",
    "                else:\n",
    "                    unique_ingredient_columns.add(response[1:])\n",
    "            else:\n",
    "                unique_ingredient_columns.add(info_name)"
   ]
  },
  {
   "cell_type": "code",
   "execution_count": 16,
   "id": "c80bd8a9-c433-45af-8fe9-fc87ac996857",
   "metadata": {
    "tags": []
   },
   "outputs": [
    {
     "name": "stdout",
     "output_type": "stream",
     "text": [
      "<class 'pandas.core.frame.DataFrame'>\n",
      "RangeIndex: 5582 entries, 0 to 5581\n",
      "Data columns (total 12 columns):\n",
      " #   Column                 Non-Null Count  Dtype \n",
      "---  ------                 --------------  ----- \n",
      " 0   calories               5578 non-null   object\n",
      " 1   carbohydrateContent    5548 non-null   object\n",
      " 2   proteinContent         5522 non-null   object\n",
      " 3   fatContent             5516 non-null   object\n",
      " 4   saturatedFatContent    5426 non-null   object\n",
      " 5   transFatContent        3770 non-null   object\n",
      " 6   cholesterolContent     4753 non-null   object\n",
      " 7   sodiumContent          4190 non-null   object\n",
      " 8   fiberContent           5382 non-null   object\n",
      " 9   sugarContent           5492 non-null   object\n",
      " 10  unsaturatedFatContent  2963 non-null   object\n",
      " 11  servingSize            3963 non-null   object\n",
      "dtypes: object(12)\n",
      "memory usage: 523.4+ KB\n"
     ]
    }
   ],
   "source": [
    "# break out recipes by nutritional info \n",
    "macros_df = pd.json_normalize(indr['nutrients'])\n",
    "macros_df.info()"
   ]
  },
  {
   "cell_type": "code",
   "execution_count": 17,
   "id": "93488fcd-abcd-40da-a3ce-c3bb85a0c165",
   "metadata": {
    "tags": []
   },
   "outputs": [],
   "source": [
    "macros_func = macros_df[~((macros_df['calories'].isna()) | (macros_df['carbohydrateContent'].isna()) | (macros_df['proteinContent'].isna()) | (macros_df['fatContent'].isna()))]"
   ]
  },
  {
   "cell_type": "code",
   "execution_count": 18,
   "id": "2ab98c48-9301-4cc0-bcef-6b2ae75e5b64",
   "metadata": {
    "tags": []
   },
   "outputs": [
    {
     "data": {
      "text/html": [
       "<div>\n",
       "<style scoped>\n",
       "    .dataframe tbody tr th:only-of-type {\n",
       "        vertical-align: middle;\n",
       "    }\n",
       "\n",
       "    .dataframe tbody tr th {\n",
       "        vertical-align: top;\n",
       "    }\n",
       "\n",
       "    .dataframe thead th {\n",
       "        text-align: right;\n",
       "    }\n",
       "</style>\n",
       "<table border=\"1\" class=\"dataframe\">\n",
       "  <thead>\n",
       "    <tr style=\"text-align: right;\">\n",
       "      <th></th>\n",
       "      <th>ingredients</th>\n",
       "      <th>nutrients</th>\n",
       "      <th>dietary_restrictions</th>\n",
       "    </tr>\n",
       "  </thead>\n",
       "  <tbody>\n",
       "    <tr>\n",
       "      <th>4259</th>\n",
       "      <td>[1 ball Best Pizza Dough (or Thin Crust Dough)...</td>\n",
       "      <td>{'servingSize': '1 slice', 'calories': '121 ca...</td>\n",
       "      <td>[Vegetarian Diet]</td>\n",
       "    </tr>\n",
       "    <tr>\n",
       "      <th>4260</th>\n",
       "      <td>[¾ cup unsalted cashews, 1 medium yellow onion...</td>\n",
       "      <td>{'calories': '380 calories', 'sugarContent': '...</td>\n",
       "      <td>[Vegan Diet]</td>\n",
       "    </tr>\n",
       "    <tr>\n",
       "      <th>4263</th>\n",
       "      <td>[1 ½ ounces (3 tablespoons) tequila blanco or ...</td>\n",
       "      <td>{'calories': '166 calories', 'sugarContent': '...</td>\n",
       "      <td>[Vegan Diet]</td>\n",
       "    </tr>\n",
       "    <tr>\n",
       "      <th>4264</th>\n",
       "      <td>[1 pound ripe strawberries, 3 tablespoons suga...</td>\n",
       "      <td>{'calories': '310 calories', 'sugarContent': '...</td>\n",
       "      <td>[Vegetarian Diet]</td>\n",
       "    </tr>\n",
       "    <tr>\n",
       "      <th>4267</th>\n",
       "      <td>[1 ¾ cups [245 g] all-purpose flour, ½ cup [10...</td>\n",
       "      <td>{'calories': '267 calories', 'sugarContent': '...</td>\n",
       "      <td>[Vegetarian Diet]</td>\n",
       "    </tr>\n",
       "    <tr>\n",
       "      <th>...</th>\n",
       "      <td>...</td>\n",
       "      <td>...</td>\n",
       "      <td>...</td>\n",
       "    </tr>\n",
       "    <tr>\n",
       "      <th>7494</th>\n",
       "      <td>[1 ¼ cup all-purpose flour, 3/4 cup light brow...</td>\n",
       "      <td>{'calories': '207 calories', 'sugarContent': '...</td>\n",
       "      <td>[Vegetarian Diet]</td>\n",
       "    </tr>\n",
       "    <tr>\n",
       "      <th>7499</th>\n",
       "      <td>[1 cup dried chickpeas (not cooked or canned),...</td>\n",
       "      <td>{'servingSize': '4 falafel', 'calories': '258 ...</td>\n",
       "      <td>[Vegan Diet]</td>\n",
       "    </tr>\n",
       "    <tr>\n",
       "      <th>7502</th>\n",
       "      <td>[⅓ cup hummus, 8 English cucumber slices (or s...</td>\n",
       "      <td>{'calories': '552 calories', 'sugarContent': '...</td>\n",
       "      <td>[Vegan Diet]</td>\n",
       "    </tr>\n",
       "    <tr>\n",
       "      <th>7505</th>\n",
       "      <td>[2 cups Old Fashioned rolled oats (don’t subst...</td>\n",
       "      <td>{'calories': '293 calories', 'sugarContent': '...</td>\n",
       "      <td>[Vegan Diet]</td>\n",
       "    </tr>\n",
       "    <tr>\n",
       "      <th>7512</th>\n",
       "      <td>[2 tablespoons cornstarch , 1 ½ cups whole mil...</td>\n",
       "      <td>{'calories': '312 calories', 'sugarContent': '...</td>\n",
       "      <td>[Vegetarian Diet]</td>\n",
       "    </tr>\n",
       "  </tbody>\n",
       "</table>\n",
       "<p>1250 rows × 3 columns</p>\n",
       "</div>"
      ],
      "text/plain": [
       "                                            ingredients  \\\n",
       "4259  [1 ball Best Pizza Dough (or Thin Crust Dough)...   \n",
       "4260  [¾ cup unsalted cashews, 1 medium yellow onion...   \n",
       "4263  [1 ½ ounces (3 tablespoons) tequila blanco or ...   \n",
       "4264  [1 pound ripe strawberries, 3 tablespoons suga...   \n",
       "4267  [1 ¾ cups [245 g] all-purpose flour, ½ cup [10...   \n",
       "...                                                 ...   \n",
       "7494  [1 ¼ cup all-purpose flour, 3/4 cup light brow...   \n",
       "7499  [1 cup dried chickpeas (not cooked or canned),...   \n",
       "7502  [⅓ cup hummus, 8 English cucumber slices (or s...   \n",
       "7505  [2 cups Old Fashioned rolled oats (don’t subst...   \n",
       "7512  [2 tablespoons cornstarch , 1 ½ cups whole mil...   \n",
       "\n",
       "                                              nutrients dietary_restrictions  \n",
       "4259  {'servingSize': '1 slice', 'calories': '121 ca...    [Vegetarian Diet]  \n",
       "4260  {'calories': '380 calories', 'sugarContent': '...         [Vegan Diet]  \n",
       "4263  {'calories': '166 calories', 'sugarContent': '...         [Vegan Diet]  \n",
       "4264  {'calories': '310 calories', 'sugarContent': '...    [Vegetarian Diet]  \n",
       "4267  {'calories': '267 calories', 'sugarContent': '...    [Vegetarian Diet]  \n",
       "...                                                 ...                  ...  \n",
       "7494  {'calories': '207 calories', 'sugarContent': '...    [Vegetarian Diet]  \n",
       "7499  {'servingSize': '4 falafel', 'calories': '258 ...         [Vegan Diet]  \n",
       "7502  {'calories': '552 calories', 'sugarContent': '...         [Vegan Diet]  \n",
       "7505  {'calories': '293 calories', 'sugarContent': '...         [Vegan Diet]  \n",
       "7512  {'calories': '312 calories', 'sugarContent': '...    [Vegetarian Diet]  \n",
       "\n",
       "[1250 rows x 3 columns]"
      ]
     },
     "execution_count": 18,
     "metadata": {},
     "output_type": "execute_result"
    }
   ],
   "source": [
    "# make note of dietary restrictions \n",
    "indr[indr['dietary_restrictions'].notna()]\n",
    "# only present for 1250 recipes "
   ]
  }
 ],
 "metadata": {
  "kernelspec": {
   "display_name": "Python 3 (ipykernel)",
   "language": "python",
   "name": "python3"
  },
  "language_info": {
   "codemirror_mode": {
    "name": "ipython",
    "version": 3
   },
   "file_extension": ".py",
   "mimetype": "text/x-python",
   "name": "python",
   "nbconvert_exporter": "python",
   "pygments_lexer": "ipython3",
   "version": "3.11.4"
  }
 },
 "nbformat": 4,
 "nbformat_minor": 5
}
