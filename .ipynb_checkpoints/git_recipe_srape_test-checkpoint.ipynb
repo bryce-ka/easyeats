{
 "cells": [
  {
   "cell_type": "code",
   "execution_count": 4,
   "id": "6a964aac-f81c-40cb-a771-3c47f8ecfbc4",
   "metadata": {
    "tags": []
   },
   "outputs": [],
   "source": [
    "from urllib.request import urlopen\n",
    "from bs4 import BeautifulSoup\n",
    "import pandas as pd\n",
    "import time\n",
    "import random\n",
    "import pickle\n",
    "import lxml\n",
    "import requests\n",
    "import re \n",
    "import requests\n",
    "from bs4 import BeautifulSoup\n",
    "import re\n",
    "import time\n",
    "from recipe_scrapers import scrape_me"
   ]
  },
  {
   "cell_type": "code",
   "execution_count": 3,
   "id": "8fc86457-883e-4f17-bb70-f7918f11778a",
   "metadata": {
    "tags": []
   },
   "outputs": [
    {
     "data": {
      "text/plain": [
       "{'author': 'FoodieGeek',\n",
       " 'canonical_url': 'https://www.allrecipes.com/recipe/158968/spinach-and-feta-turkey-burgers/',\n",
       " 'category': 'Dinner',\n",
       " 'cook_time': 15,\n",
       " 'cuisine': 'Mediterranean Inspired',\n",
       " 'description': 'These spinach and feta turkey burgers are moist and easy to make in one bowl with simple ingredients, shaped into patties, and cooked on a hot grill.',\n",
       " 'host': 'allrecipes.com',\n",
       " 'image': 'https://www.allrecipes.com/thmb/cpf6Rics5oHGq1TZ1df5fEaImwM=/1500x0/filters:no_upscale():max_bytes(150000):strip_icc()/1360550-582be362ee99424bb4f363c2274a9d0d.jpg',\n",
       " 'ingredient_groups': [{'ingredients': ['cooking spray',\n",
       "    '2 pounds ground turkey',\n",
       "    '1 (10 ounce) box frozen chopped spinach, thawed and squeezed dry',\n",
       "    '4 ounces feta cheese',\n",
       "    '2 large eggs, beaten',\n",
       "    '2 cloves garlic, minced'],\n",
       "   'purpose': None}],\n",
       " 'ingredients': ['cooking spray',\n",
       "  '2 pounds ground turkey',\n",
       "  '1 (10 ounce) box frozen chopped spinach, thawed and squeezed dry',\n",
       "  '4 ounces feta cheese',\n",
       "  '2 large eggs, beaten',\n",
       "  '2 cloves garlic, minced'],\n",
       " 'instructions': 'Preheat an outdoor grill for medium-high heat and lightly oil the grate.\\nMix together turkey, spinach, feta, eggs, and garlic in a large bowl until well combined; form into 8 patties.\\nCook patties on the preheated grill on both sides until no longer pink in the center, 15 to 20 minutes. An instant-read thermometer inserted into the center of patties should read at least 165 degrees F (74 degrees C).',\n",
       " 'instructions_list': ['Preheat an outdoor grill for medium-high heat and lightly oil the grate.',\n",
       "  'Mix together turkey, spinach, feta, eggs, and garlic in a large bowl until well combined; form into 8 patties.',\n",
       "  'Cook patties on the preheated grill on both sides until no longer pink in the center, 15 to 20 minutes. An instant-read thermometer inserted into the center of patties should read at least 165 degrees F (74 degrees C).'],\n",
       " 'language': 'en',\n",
       " 'nutrients': {'calories': '233 kcal',\n",
       "  'carbohydrateContent': '2 g',\n",
       "  'cholesterolContent': '143 mg',\n",
       "  'fiberContent': '1 g',\n",
       "  'proteinContent': '27 g',\n",
       "  'saturatedFatContent': '5 g',\n",
       "  'sodiumContent': '266 mg',\n",
       "  'sugarContent': '1 g',\n",
       "  'fatContent': '13 g',\n",
       "  'unsaturatedFatContent': '0 g'},\n",
       " 'prep_time': 20,\n",
       " 'ratings': 4.6,\n",
       " 'ratings_count': 857,\n",
       " 'site_name': 'Allrecipes',\n",
       " 'title': 'Spinach and Feta Turkey Burgers',\n",
       " 'total_time': 35,\n",
       " 'yields': '8 servings'}"
      ]
     },
     "execution_count": 3,
     "metadata": {},
     "output_type": "execute_result"
    }
   ],
   "source": [
    "\n",
    "\n",
    "scraper = scrape_me(\"https://www.allrecipes.com/recipe/158968/spinach-and-feta-turkey-burgers/\")\n",
    "scraper.title()\n",
    "scraper.instructions()\n",
    "scraper.to_json()\n",
    "# for a complete list of methods:\n"
   ]
  },
  {
   "cell_type": "code",
   "execution_count": 11,
   "id": "c40dad50-8ada-4da8-9080-fa551b924a08",
   "metadata": {
    "tags": []
   },
   "outputs": [
    {
     "data": {
      "text/plain": [
       "dict_keys(['abeautifulmess.com', 'acouplecooks.com', 'aflavorjournal.com', 'ahealthysliceoflife.com', 'alittlebityummy.com', 'aberlehome.com', 'claudia.abril.com.br', 'abuelascounter.com', 'addapinch.com', 'afghankitchenrecipes.com', 'akispetretzikis.com', 'ah.nl', 'ah.be', 'aldi.com.au', 'aldi-nord.de', 'aldi.es', 'aldi.fr', 'aldi.lu', 'aldi.nl', 'aldi.pl', 'aldi.pt', 'aldi-sued.de', 'aldi.hu', 'aldi.it', 'aldi-suisse.ch', 'alexandracooks.com', 'allrecipes.com', 'allthehealthythings.com', 'alltommat.se', 'altonbrown.com', 'amazingribs.com', 'ambitiouskitchen.com', 'americastestkitchen.com', 'ameessavorydish.com', 'archanaskitchen.com', 'argiro.gr', 'arla.se', 'atelierdeschefs.fr', 'averiecooks.com', 'bbc.com', 'bbc.co.uk', 'bbcgoodfood.com', 'bakels.com.au', 'bakels.co.uk', 'baking-sense.com', 'bakingmischief.com', 'barefootcontessa.com', 'barefeetinthekitchen.com', 'barefootinthepines.com', 'bestrecipes.com.au', 'betterfoodguru.com', 'bettybossi.ch', 'bettycrocker.com', 'beyondfrosting.com', 'biancazapatka.com', 'bigoven.com', 'bitsofcarey.com', 'blueapron.com', 'bluejeanchef.com', 'bodybuilding.com', 'bonappetit.com', 'bowlofdelicious.com', 'bongeats.com', 'breadtopia.com', 'briceletbaklava.ch', 'brokenovenbaking.com', 'budgetbytes.com', 'cafedelites.com', 'cakemehometonight.com', 'cambreabakes.com', 'carlsbadcravings.com', 'castironketo.net', 'cdkitchen.com', 'celebratingsweets.com', 'chefjeanpierre.com', 'chefsavvy.com', 'chefkoch.de', 'chefnini.com', 'closetcooking.com', 'colleenchristensennutrition.com', 'comidinhasdochef.com', 'cookeatshare.com', 'cookpad.com', 'cook-talk.com', 'cookwell.com', 'cookieandkate.com', 'cookiesandcups.com', 'cookingcircle.com', 'cookinglight.com', 'cookingwithjanica.com', 'cookomix.com', 'cookscountry.com', 'cooksillustrated.com', 'copykat.com', 'costco.com', 'countryliving.com', 'creativecanning.com', 'cucchiaio.it', 'cuisineaz.com', 'culy.nl', 'cybercook.com.br', 'dagelijksekost.vrt.be', 'damndelicious.net', 'davidlebovitz.com', 'delish.com', 'dinneratthezoo.com', 'dinnerthendessert.com', 'dish.co.nz', 'dobruchut.aktuality.sk', 'donalskehan.com', 'eatliverun.com', 'eatthismuch.com', 'eggs.ca', 'elavegan.com', 'evolvingtable.com', 'familyfoodonthetable.com', 'feastingathome.com', '15gram.be', 'fitslowcookerqueen.com', '40aprons.com', 'glutenfreeonashoestring.com', 'gourmettraveller.com.au', 'grandfrais.com', 'heatherchristo.com', 'hungryhappens.net', 'inbloombakery.com', 'ingoodflavor.com', 'inspiredtaste.net', 'irishcentral.com', 'jocooks.com', 'joshuaweissman.com', 'joythebaker.com', 'jumbo.com', 'kalejunkie.com', 'kellyscleankitchen.com', 'kitchenaid.com.au', 'kitchendivas.com', 'kitchendreaming.com', 'kookjij.nl', 'kristineskitchenblog.com', 'krollskorner.com', 'kuchynalidla.sk', 'lacucinaitaliana.it', 'lacucinaitaliana.com', 'lanascooking.com', 'littlesunnykitchen.com', 'leitesculinaria.com', 'madamecuisine.de', 'makeitdairyfree.com', 'mccormick.com', 'mealprepmanual.com', 'meganvskitchen.com', 'miljuschka.nl', 'modernhoney.com', 'momontimeout.com', 'moulinex.fr', 'mundodereceitasbimby.com.pt', 'myjewishlearning.com', 'mykoreankitchen.com', 'myvegetarianroots.com', 'natashaskitchen.com', 'noracooks.com', 'notenoughcinnamon.com', 'nutritionfacts.org', 'okokorecepten.nl', 'onesweetappetite.com', 'books.ottolenghi.co.uk', 'peelwithzeal.com', 'pinchofyum.com', 'potatorolls.com', 'preppykitchen.com', 'quitoque.fr', 'recept.se', 'receptyprevas.sk', 'recette.plus', 'recipegirl.com', 'rewe.de', 'recipeland.com', 'ricetteperbimby.it', 'app.samsungfood.com', 'sandwichtribunal.com', 'savorynothings.com', 'shelikesfood.com', 'spainonafork.com', 'spisbedre.dk', 'stacyling.com', 'strongrfastr.com', 'sugarhero.com', 'tasteatlas.com', 'thecookierookie.com', 'thecookingguy.com', 'thefoodietakesflight.com', 'theglutenfreeaustrian.com', 'theloopywhisk.com', 'themediterraneandish.com', 'thepalatablelife.com', 'theplantbasedschool.com', 'thesaltymarshmallow.com', 'thinlicious.com', 'domesticate-me.com', 'downshiftology.com', 'dr.dk', 'eatwell101.com', 'eatwhattonight.com', 'eatingbirdfood.com', 'eatingwell.com', 'eatsmarter.com', 'eatsmarter.de', 'eattolerant.de', 'emmikochteinfach.de', 'epicurious.com', 'errenskitchen.com', 'ethanchlebowski.com', 'recipes.farmhousedelivery.com', 'farmhouseonboone.com', 'fattoincasadabenedetta.it', 'felix.kitchen', 'fifteenspatulas.com', 'finedininglovers.com', 'fitmencook.com', 'food.com', 'food52.com', 'foodandwine.com', 'foodfidelity.com', 'foodnetwork.co.uk', 'foodnetwork.com', 'foodrepublic.com', 'forktospoon.com', 'forksoverknives.com', 'franzoesischkochen.de', '750g.com', 'ricette.giallozafferano.it', 'gimmesomeoven.com', 'receitas.globo.com', 'godt.no', 'gonnawantseconds.com', 'goodfooddiscoveries.com', 'goodhousekeeping.com', 'greatbritishchefs.com', 'grimgrains.com', 'grouprecipes.com', 'heb.com', 'halfbakedharvest.com', 'handletheheat.com', 'hassanchef.com', 'headbangerskitchen.com', 'hellofresh.com', 'hellofresh.at', 'hellofresh.be', 'hellofresh.ca', 'hellofresh.ch', 'hellofresh.co.nz', 'hellofresh.co.uk', 'hellofresh.com.au', 'hellofresh.de', 'hellofresh.dk', 'hellofresh.es', 'hellofresh.fr', 'hellofresh.ie', 'hellofresh.it', 'hellofresh.lu', 'hellofresh.nl', 'hellofresh.no', 'hellofresh.se', 'hersheyland.com', 'hofer.at', 'hofer.si', 'homechef.com', 'hostthetoast.com', 'ica.se', 'im-worthy.com', 'receitas.ig.com.br', 'indianhealthyrecipes.com', 'innit.com', 'insanelygoodrecipes.com', 'inspiralized.com', 'izzycooking.com', 'jamieoliver.com', 'jimcooksfoodgood.com', 'joyfoodsunshine.com', 'juliegoodwin.com.au', 'justataste.com', 'justbento.com', 'justonecookbook.com', 'kennymcgovern.com', 'keukenliefde.nl', 'kingarthurbaking.com', 'kitchenstories.com', 'kitchensanctuary.com', 'kochbar.de', 'kochbucher.com', 'koket.se', 'kuchnia-domowa.pl', 'kwestiasmaku.com', 'latelierderoxane.com', 'lecremedelacrumb.com', 'leanandgreenrecipes.net', 'lecker.de', 'lekkerensimpel.com', 'leukerecepten.nl', 'lifestyleofafoodie.com', 'littlespicejar.com', 'livelytable.com', 'lovingitvegan.com', 'maangchi.com', 'madensverden.dk', 'madsvin.com', 'marmiton.org', 'marthastewart.com', 'matprat.no', 'meljoulwan.com', 'melskitchencafe.com', 'mindmegette.hu', 'minimalistbaker.com', 'ministryofcurry.com', 'misya.info', 'mob.co.uk', 'mobkitchen.co.uk', 'momswithcrockpots.com', 'motherthyme.com', 'mybakingaddiction.com', 'mykitchen101.com', 'mykitchen101en.com', 'myrecipes.com', 'nrk.no', 'nibbledish.com', 'nhs.uk', 'healthyeating.nhlbi.nih.gov', 'cooking.nytimes.com', 'norecipes.com', 'nosalty.hu', 'nourishedbynutrition.com', 'number-2-pencil.com', 'nutritionbynathalie.com', 'ohsheglows.com', 'omnivorescookbook.com', 'onceuponachef.com', '101cookbooks.com', 'owen-han.com', 'paleorunningmomma.com', 'panelinha.com.br', 'paninihappy.com', 'persnicketyplates.com', 'pickuplimes.com', 'pingodoce.pt', 'pinkowlkitchen.com', 'platingpixels.com', 'plowingthroughlife.com', 'popsugar.com', 'practicalselfreliance.com', 'pressureluckcooking.com', 'primaledgehealth.com', 'projectgezond.nl', 'przepisy.pl', 'purelypope.com', 'purplecarrot.com', 'rachlmansfield.com', 'rainbowplantlife.com', 'realfood.tesco.com', 'realsimple.com', 'receitasnestle.com.br', 'reciperunner.com', 'recipetineats.com', 'redhousespice.com', 'reishunger.de', 'rezeptwelt.de', 'ricetta.it', 'rosannapansino.com', 'rutgerbakt.nl', 'saboresajinomoto.com.br', 'sallysbakingaddiction.com', 'sallys-blog.de', 'saltpepperskillet.com', 'saveur.com', 'schoolofwok.co.uk', 'seriouseats.com', 'simple-veganista.com', 'simply-cookit.com', 'simplyquinoa.com', 'simplyrecipes.com', 'simplywhisked.com', 'skinnytaste.com', 'smulweb.nl', 'sobors.hu', 'southerncastiron.com', 'southernliving.com', 'spendwithpennies.com', 'springlane.de', 'staysnatched.com', 'steamykitchen.com', 'streetkitchen.hu', 'sunbasket.com', 'sundpaabudget.dk', 'sunset.com', 'sweetcsdesigns.com', 'sweetpeasandsaffron.com', 'taste.com.au', 'tasteofhome.com', 'tastesbetterfromscratch.com', 'tastesoflizzyt.com', 'tasty.co', 'tastykitchen.com', 'theclevercarrot.com', 'thehappyfoodie.co.uk', 'thekitchencommunity.org', 'thekitchenmagpie.com', 'thekitchn.com', 'themagicalslowcooker.com', 'themodernproper.com', 'thepioneerwoman.com', 'thespruceeats.com', 'thevintagemixer.com', 'therecipecritic.com', 'thewoksoflife.com', 'tidymom.net', 'recipes.timesofindia.com', 'tine.no', 'tofoo.co.uk', 'tudogostoso.com.br', '24kitchen.nl', 'twopeasandtheirpod.com', 'usapears.org', 'myplate.gov', 'unsophisticook.com', 'valdemarsro.dk', 'vanillaandbean.com', 'varecha.pravda.sk', 'vegrecipesofindia.com', 'vegetarbloggen.no', 'vegolosi.it', 'veroniquecloutier.com', 'www1.wdr.de', 'waitrose.com', 'watchwhatueat.com', 'wearenotmartha.com', 'wedishitup.com', 'weightwatchers.com', 'wellplated.com', 'whatsgabycooking.com', 'whole30.com', 'wholefoodsmarket.com', 'wholefoodsmarket.co.uk', 'williams-sonoma.com', 'womensweeklyfood.com.au', 'woop.co.nz', 'en.wikibooks.org', 'yemek.com', 'yummly.com', 'zaubertopf.de', 'zeit.de', 'zenbelly.com', 'gesund-aktiv.com', 'uitpaulineskeuken.nl'])"
      ]
     },
     "execution_count": 11,
     "metadata": {},
     "output_type": "execute_result"
    }
   ],
   "source": [
    "# help(scraper)\n",
    "from recipe_scrapers import SCRAPERS\n",
    "\n",
    "SCRAPERS.keys()"
   ]
  },
  {
   "cell_type": "code",
   "execution_count": 18,
   "id": "19e9fb2d-2454-499f-a40a-751688ebd8a8",
   "metadata": {
    "tags": []
   },
   "outputs": [],
   "source": [
    "import requests, re\n",
    "from bs4 import BeautifulSoup\n",
    "import time\n",
    "from IPython.display import clear_output\n",
    "\n",
    "regex = r\"[0-9]+(?:\\.[0-9]+){3}:[0-9]+\"\n",
    "c = requests.get(\"https://spys.me/proxy.txt\")\n",
    "test_str = c.text\n",
    "a = re.finditer(regex, test_str, re.MULTILINE)\n",
    "with open(\"proxies_list.txt\", 'w') as file:\n",
    "    for i in a:\n",
    "       print(i.group(),file=file)\n",
    "        \n",
    "d = requests.get(\"https://free-proxy-list.net/\")\n",
    "soup = BeautifulSoup(d.content, 'html.parser')\n",
    "td_elements = soup.select('.fpl-list .table tbody tr td')\n",
    "ips = []\n",
    "ports = []\n",
    "for j in range(0, len(td_elements), 8):\n",
    "    ips.append(td_elements[j].text.strip())\n",
    "    ports.append(td_elements[j + 1].text.strip())\n",
    "with open(\"proxies_list.txt\", \"a\") as myfile:\n",
    "    for ip, port in zip(ips, ports):\n",
    "        proxy = f\"{ip}:{port}\"\n",
    "        print(proxy, file=myfile)"
   ]
  },
  {
   "cell_type": "code",
   "execution_count": 19,
   "id": "1d093f91-d7bc-47a9-b395-caef2cb72c52",
   "metadata": {
    "tags": []
   },
   "outputs": [],
   "source": [
    "proxies = []\n",
    "with open('proxies_list.txt') as file:\n",
    "    for proxy_line in file:\n",
    "        proxies.append(proxy_line)"
   ]
  },
  {
   "cell_type": "code",
   "execution_count": 21,
   "id": "9dccf18c-2c27-4163-9fc8-62a847b325a5",
   "metadata": {
    "collapsed": true,
    "jupyter": {
     "outputs_hidden": true
    },
    "tags": []
   },
   "outputs": [
    {
     "name": "stdout",
     "output_type": "stream",
     "text": [
      "Working proxies found: 3\n"
     ]
    },
    {
     "ename": "KeyboardInterrupt",
     "evalue": "",
     "output_type": "error",
     "traceback": [
      "\u001b[0;31m---------------------------------------------------------------------------\u001b[0m",
      "\u001b[0;31mKeyboardInterrupt\u001b[0m                         Traceback (most recent call last)",
      "Cell \u001b[0;32mIn[21], line 8\u001b[0m\n\u001b[1;32m      4\u001b[0m \u001b[38;5;28;01mfor\u001b[39;00m proxy \u001b[38;5;129;01min\u001b[39;00m proxies:\n\u001b[1;32m      5\u001b[0m     \u001b[38;5;28;01mtry\u001b[39;00m:\n\u001b[1;32m      6\u001b[0m         \u001b[38;5;66;03m# https://ipecho.net/plain returns the ip address\u001b[39;00m\n\u001b[1;32m      7\u001b[0m         \u001b[38;5;66;03m# of the current session if a GET request is sent.\u001b[39;00m\n\u001b[0;32m----> 8\u001b[0m         page \u001b[38;5;241m=\u001b[39m requests\u001b[38;5;241m.\u001b[39mget(\n\u001b[1;32m      9\u001b[0m           url, proxies\u001b[38;5;241m=\u001b[39m{\u001b[38;5;124m\"\u001b[39m\u001b[38;5;124mhttp\u001b[39m\u001b[38;5;124m\"\u001b[39m: proxy, \u001b[38;5;124m\"\u001b[39m\u001b[38;5;124mhttps\u001b[39m\u001b[38;5;124m\"\u001b[39m: proxy}, timeout\u001b[38;5;241m=\u001b[39m\u001b[38;5;241m5\u001b[39m)\n\u001b[1;32m     10\u001b[0m         \u001b[38;5;28;01mif\u001b[39;00m page\u001b[38;5;241m.\u001b[39mstatus_code \u001b[38;5;241m==\u001b[39m \u001b[38;5;241m200\u001b[39m:\n\u001b[1;32m     11\u001b[0m             file\u001b[38;5;241m.\u001b[39mwrite(proxy \u001b[38;5;241m+\u001b[39m\u001b[38;5;124m'\u001b[39m\u001b[38;5;130;01m\\n\u001b[39;00m\u001b[38;5;124m'\u001b[39m)\n",
      "File \u001b[0;32m~/anaconda3/lib/python3.11/site-packages/requests/api.py:73\u001b[0m, in \u001b[0;36mget\u001b[0;34m(url, params, **kwargs)\u001b[0m\n\u001b[1;32m     62\u001b[0m \u001b[38;5;28;01mdef\u001b[39;00m \u001b[38;5;21mget\u001b[39m(url, params\u001b[38;5;241m=\u001b[39m\u001b[38;5;28;01mNone\u001b[39;00m, \u001b[38;5;241m*\u001b[39m\u001b[38;5;241m*\u001b[39mkwargs):\n\u001b[1;32m     63\u001b[0m \u001b[38;5;250m    \u001b[39m\u001b[38;5;124mr\u001b[39m\u001b[38;5;124;03m\"\"\"Sends a GET request.\u001b[39;00m\n\u001b[1;32m     64\u001b[0m \n\u001b[1;32m     65\u001b[0m \u001b[38;5;124;03m    :param url: URL for the new :class:`Request` object.\u001b[39;00m\n\u001b[0;32m   (...)\u001b[0m\n\u001b[1;32m     70\u001b[0m \u001b[38;5;124;03m    :rtype: requests.Response\u001b[39;00m\n\u001b[1;32m     71\u001b[0m \u001b[38;5;124;03m    \"\"\"\u001b[39;00m\n\u001b[0;32m---> 73\u001b[0m     \u001b[38;5;28;01mreturn\u001b[39;00m request(\u001b[38;5;124m\"\u001b[39m\u001b[38;5;124mget\u001b[39m\u001b[38;5;124m\"\u001b[39m, url, params\u001b[38;5;241m=\u001b[39mparams, \u001b[38;5;241m*\u001b[39m\u001b[38;5;241m*\u001b[39mkwargs)\n",
      "File \u001b[0;32m~/anaconda3/lib/python3.11/site-packages/requests/api.py:59\u001b[0m, in \u001b[0;36mrequest\u001b[0;34m(method, url, **kwargs)\u001b[0m\n\u001b[1;32m     55\u001b[0m \u001b[38;5;66;03m# By using the 'with' statement we are sure the session is closed, thus we\u001b[39;00m\n\u001b[1;32m     56\u001b[0m \u001b[38;5;66;03m# avoid leaving sockets open which can trigger a ResourceWarning in some\u001b[39;00m\n\u001b[1;32m     57\u001b[0m \u001b[38;5;66;03m# cases, and look like a memory leak in others.\u001b[39;00m\n\u001b[1;32m     58\u001b[0m \u001b[38;5;28;01mwith\u001b[39;00m sessions\u001b[38;5;241m.\u001b[39mSession() \u001b[38;5;28;01mas\u001b[39;00m session:\n\u001b[0;32m---> 59\u001b[0m     \u001b[38;5;28;01mreturn\u001b[39;00m session\u001b[38;5;241m.\u001b[39mrequest(method\u001b[38;5;241m=\u001b[39mmethod, url\u001b[38;5;241m=\u001b[39murl, \u001b[38;5;241m*\u001b[39m\u001b[38;5;241m*\u001b[39mkwargs)\n",
      "File \u001b[0;32m~/anaconda3/lib/python3.11/site-packages/requests/sessions.py:589\u001b[0m, in \u001b[0;36mrequest\u001b[0;34m(self, method, url, params, data, headers, cookies, files, auth, timeout, allow_redirects, proxies, hooks, stream, verify, cert, json)\u001b[0m\n\u001b[1;32m    584\u001b[0m send_kwargs \u001b[38;5;241m=\u001b[39m {\n\u001b[1;32m    585\u001b[0m     \u001b[38;5;124m\"\u001b[39m\u001b[38;5;124mtimeout\u001b[39m\u001b[38;5;124m\"\u001b[39m: timeout,\n\u001b[1;32m    586\u001b[0m     \u001b[38;5;124m\"\u001b[39m\u001b[38;5;124mallow_redirects\u001b[39m\u001b[38;5;124m\"\u001b[39m: allow_redirects,\n\u001b[1;32m    587\u001b[0m }\n\u001b[1;32m    588\u001b[0m send_kwargs\u001b[38;5;241m.\u001b[39mupdate(settings)\n\u001b[0;32m--> 589\u001b[0m resp \u001b[38;5;241m=\u001b[39m \u001b[38;5;28mself\u001b[39m\u001b[38;5;241m.\u001b[39msend(prep, \u001b[38;5;241m*\u001b[39m\u001b[38;5;241m*\u001b[39msend_kwargs)\n\u001b[1;32m    591\u001b[0m \u001b[38;5;28;01mreturn\u001b[39;00m resp\n",
      "File \u001b[0;32m~/anaconda3/lib/python3.11/site-packages/requests/sessions.py:703\u001b[0m, in \u001b[0;36mSession.send\u001b[0;34m(self, request, **kwargs)\u001b[0m\n\u001b[1;32m    700\u001b[0m start \u001b[38;5;241m=\u001b[39m preferred_clock()\n\u001b[1;32m    702\u001b[0m \u001b[38;5;66;03m# Send the request\u001b[39;00m\n\u001b[0;32m--> 703\u001b[0m r \u001b[38;5;241m=\u001b[39m adapter\u001b[38;5;241m.\u001b[39msend(request, \u001b[38;5;241m*\u001b[39m\u001b[38;5;241m*\u001b[39mkwargs)\n\u001b[1;32m    705\u001b[0m \u001b[38;5;66;03m# Total elapsed time of the request (approximately)\u001b[39;00m\n\u001b[1;32m    706\u001b[0m elapsed \u001b[38;5;241m=\u001b[39m preferred_clock() \u001b[38;5;241m-\u001b[39m start\n",
      "File \u001b[0;32m~/anaconda3/lib/python3.11/site-packages/requests/adapters.py:486\u001b[0m, in \u001b[0;36msend\u001b[0;34m(self, request, stream, timeout, verify, cert, proxies)\u001b[0m\n\u001b[1;32m    479\u001b[0m         \u001b[38;5;28;01mraise\u001b[39;00m InvalidProxyURL(\n\u001b[1;32m    480\u001b[0m             \u001b[38;5;124m\"\u001b[39m\u001b[38;5;124mPlease check proxy URL. It is malformed \u001b[39m\u001b[38;5;124m\"\u001b[39m\n\u001b[1;32m    481\u001b[0m             \u001b[38;5;124m\"\u001b[39m\u001b[38;5;124mand could be missing the host.\u001b[39m\u001b[38;5;124m\"\u001b[39m\n\u001b[1;32m    482\u001b[0m         )\n\u001b[1;32m    483\u001b[0m     proxy_manager \u001b[38;5;241m=\u001b[39m \u001b[38;5;28mself\u001b[39m\u001b[38;5;241m.\u001b[39mproxy_manager_for(proxy)\n\u001b[1;32m    484\u001b[0m     conn \u001b[38;5;241m=\u001b[39m proxy_manager\u001b[38;5;241m.\u001b[39mconnection_from_host(\n\u001b[1;32m    485\u001b[0m         \u001b[38;5;241m*\u001b[39m\u001b[38;5;241m*\u001b[39mhost_params, pool_kwargs\u001b[38;5;241m=\u001b[39mpool_kwargs\n\u001b[0;32m--> 486\u001b[0m     )\n\u001b[1;32m    487\u001b[0m \u001b[38;5;28;01melse\u001b[39;00m:\n\u001b[1;32m    488\u001b[0m     \u001b[38;5;66;03m# Only scheme should be lower case\u001b[39;00m\n\u001b[1;32m    489\u001b[0m     conn \u001b[38;5;241m=\u001b[39m \u001b[38;5;28mself\u001b[39m\u001b[38;5;241m.\u001b[39mpoolmanager\u001b[38;5;241m.\u001b[39mconnection_from_host(\n\u001b[1;32m    490\u001b[0m         \u001b[38;5;241m*\u001b[39m\u001b[38;5;241m*\u001b[39mhost_params, pool_kwargs\u001b[38;5;241m=\u001b[39mpool_kwargs\n\u001b[1;32m    491\u001b[0m     )\n",
      "File \u001b[0;32m~/anaconda3/lib/python3.11/site-packages/urllib3/connectionpool.py:711\u001b[0m, in \u001b[0;36mHTTPConnectionPool.urlopen\u001b[0;34m(self, method, url, body, headers, retries, redirect, assert_same_host, timeout, pool_timeout, release_conn, chunked, body_pos, **response_kw)\u001b[0m\n\u001b[1;32m    707\u001b[0m is_new_proxy_conn \u001b[38;5;241m=\u001b[39m \u001b[38;5;28mself\u001b[39m\u001b[38;5;241m.\u001b[39mproxy \u001b[38;5;129;01mis\u001b[39;00m \u001b[38;5;129;01mnot\u001b[39;00m \u001b[38;5;28;01mNone\u001b[39;00m \u001b[38;5;129;01mand\u001b[39;00m \u001b[38;5;129;01mnot\u001b[39;00m \u001b[38;5;28mgetattr\u001b[39m(\n\u001b[1;32m    708\u001b[0m     conn, \u001b[38;5;124m\"\u001b[39m\u001b[38;5;124msock\u001b[39m\u001b[38;5;124m\"\u001b[39m, \u001b[38;5;28;01mNone\u001b[39;00m\n\u001b[1;32m    709\u001b[0m )\n\u001b[1;32m    710\u001b[0m \u001b[38;5;28;01mif\u001b[39;00m is_new_proxy_conn \u001b[38;5;129;01mand\u001b[39;00m http_tunnel_required:\n\u001b[0;32m--> 711\u001b[0m     \u001b[38;5;28mself\u001b[39m\u001b[38;5;241m.\u001b[39m_prepare_proxy(conn)\n\u001b[1;32m    713\u001b[0m \u001b[38;5;66;03m# Make the request on the httplib connection object.\u001b[39;00m\n\u001b[1;32m    714\u001b[0m httplib_response \u001b[38;5;241m=\u001b[39m \u001b[38;5;28mself\u001b[39m\u001b[38;5;241m.\u001b[39m_make_request(\n\u001b[1;32m    715\u001b[0m     conn,\n\u001b[1;32m    716\u001b[0m     method,\n\u001b[0;32m   (...)\u001b[0m\n\u001b[1;32m    721\u001b[0m     chunked\u001b[38;5;241m=\u001b[39mchunked,\n\u001b[1;32m    722\u001b[0m )\n",
      "File \u001b[0;32m~/anaconda3/lib/python3.11/site-packages/urllib3/connectionpool.py:1007\u001b[0m, in \u001b[0;36mHTTPSConnectionPool._prepare_proxy\u001b[0;34m(self, conn)\u001b[0m\n\u001b[1;32m   1004\u001b[0m \u001b[38;5;28;01mif\u001b[39;00m \u001b[38;5;28mself\u001b[39m\u001b[38;5;241m.\u001b[39mproxy\u001b[38;5;241m.\u001b[39mscheme \u001b[38;5;241m==\u001b[39m \u001b[38;5;124m\"\u001b[39m\u001b[38;5;124mhttps\u001b[39m\u001b[38;5;124m\"\u001b[39m:\n\u001b[1;32m   1005\u001b[0m     conn\u001b[38;5;241m.\u001b[39mtls_in_tls_required \u001b[38;5;241m=\u001b[39m \u001b[38;5;28;01mTrue\u001b[39;00m\n\u001b[0;32m-> 1007\u001b[0m conn\u001b[38;5;241m.\u001b[39mconnect()\n",
      "File \u001b[0;32m~/anaconda3/lib/python3.11/site-packages/urllib3/connection.py:363\u001b[0m, in \u001b[0;36mHTTPSConnection.connect\u001b[0;34m(self)\u001b[0m\n\u001b[1;32m    361\u001b[0m \u001b[38;5;28;01mdef\u001b[39;00m \u001b[38;5;21mconnect\u001b[39m(\u001b[38;5;28mself\u001b[39m):\n\u001b[1;32m    362\u001b[0m     \u001b[38;5;66;03m# Add certificate verification\u001b[39;00m\n\u001b[0;32m--> 363\u001b[0m     \u001b[38;5;28mself\u001b[39m\u001b[38;5;241m.\u001b[39msock \u001b[38;5;241m=\u001b[39m conn \u001b[38;5;241m=\u001b[39m \u001b[38;5;28mself\u001b[39m\u001b[38;5;241m.\u001b[39m_new_conn()\n\u001b[1;32m    364\u001b[0m     hostname \u001b[38;5;241m=\u001b[39m \u001b[38;5;28mself\u001b[39m\u001b[38;5;241m.\u001b[39mhost\n\u001b[1;32m    365\u001b[0m     tls_in_tls \u001b[38;5;241m=\u001b[39m \u001b[38;5;28;01mFalse\u001b[39;00m\n",
      "File \u001b[0;32m~/anaconda3/lib/python3.11/site-packages/urllib3/connection.py:174\u001b[0m, in \u001b[0;36mHTTPConnection._new_conn\u001b[0;34m(self)\u001b[0m\n\u001b[1;32m    171\u001b[0m     extra_kw[\u001b[38;5;124m\"\u001b[39m\u001b[38;5;124msocket_options\u001b[39m\u001b[38;5;124m\"\u001b[39m] \u001b[38;5;241m=\u001b[39m \u001b[38;5;28mself\u001b[39m\u001b[38;5;241m.\u001b[39msocket_options\n\u001b[1;32m    173\u001b[0m \u001b[38;5;28;01mtry\u001b[39;00m:\n\u001b[0;32m--> 174\u001b[0m     conn \u001b[38;5;241m=\u001b[39m connection\u001b[38;5;241m.\u001b[39mcreate_connection(\n\u001b[1;32m    175\u001b[0m         (\u001b[38;5;28mself\u001b[39m\u001b[38;5;241m.\u001b[39m_dns_host, \u001b[38;5;28mself\u001b[39m\u001b[38;5;241m.\u001b[39mport), \u001b[38;5;28mself\u001b[39m\u001b[38;5;241m.\u001b[39mtimeout, \u001b[38;5;241m*\u001b[39m\u001b[38;5;241m*\u001b[39mextra_kw\n\u001b[1;32m    176\u001b[0m     )\n\u001b[1;32m    178\u001b[0m \u001b[38;5;28;01mexcept\u001b[39;00m SocketTimeout:\n\u001b[1;32m    179\u001b[0m     \u001b[38;5;28;01mraise\u001b[39;00m ConnectTimeoutError(\n\u001b[1;32m    180\u001b[0m         \u001b[38;5;28mself\u001b[39m,\n\u001b[1;32m    181\u001b[0m         \u001b[38;5;124m\"\u001b[39m\u001b[38;5;124mConnection to \u001b[39m\u001b[38;5;132;01m%s\u001b[39;00m\u001b[38;5;124m timed out. (connect timeout=\u001b[39m\u001b[38;5;132;01m%s\u001b[39;00m\u001b[38;5;124m)\u001b[39m\u001b[38;5;124m\"\u001b[39m\n\u001b[1;32m    182\u001b[0m         \u001b[38;5;241m%\u001b[39m (\u001b[38;5;28mself\u001b[39m\u001b[38;5;241m.\u001b[39mhost, \u001b[38;5;28mself\u001b[39m\u001b[38;5;241m.\u001b[39mtimeout),\n\u001b[1;32m    183\u001b[0m     )\n",
      "File \u001b[0;32m~/anaconda3/lib/python3.11/site-packages/urllib3/util/connection.py:85\u001b[0m, in \u001b[0;36mcreate_connection\u001b[0;34m(address, timeout, source_address, socket_options)\u001b[0m\n\u001b[1;32m     83\u001b[0m     \u001b[38;5;28;01mif\u001b[39;00m source_address:\n\u001b[1;32m     84\u001b[0m         sock\u001b[38;5;241m.\u001b[39mbind(source_address)\n\u001b[0;32m---> 85\u001b[0m     sock\u001b[38;5;241m.\u001b[39mconnect(sa)\n\u001b[1;32m     86\u001b[0m     \u001b[38;5;28;01mreturn\u001b[39;00m sock\n\u001b[1;32m     88\u001b[0m \u001b[38;5;28;01mexcept\u001b[39;00m socket\u001b[38;5;241m.\u001b[39merror \u001b[38;5;28;01mas\u001b[39;00m e:\n",
      "\u001b[0;31mKeyboardInterrupt\u001b[0m: "
     ]
    }
   ],
   "source": [
    "url = 'https://ipecho.net/plain'\n",
    "working = 0\n",
    "with open('working_proxies.txt', 'w') as file:\n",
    "    for proxy in proxies:\n",
    "        try:\n",
    "            # https://ipecho.net/plain returns the ip address\n",
    "            # of the current session if a GET request is sent.\n",
    "            page = requests.get(\n",
    "              url, proxies={\"http\": proxy, \"https\": proxy}, timeout=5)\n",
    "            if page.status_code == 200:\n",
    "                file.write(proxy +'\\n')\n",
    "                working+=1\n",
    "        except requests.RequestException:  # Catch all request-related errors\n",
    "            continue\n",
    "        \n",
    "        clear_output(wait=True)\n",
    "        print(f\"Working proxies found: {working}\")\n",
    "        time.sleep(0.1)  \n",
    "        "
   ]
  },
  {
   "cell_type": "code",
   "execution_count": null,
   "id": "c53d8582-fd54-4df1-8444-80b69f7b16ce",
   "metadata": {},
   "outputs": [],
   "source": [
    "# code to "
   ]
  }
 ],
 "metadata": {
  "kernelspec": {
   "display_name": "Python 3 (ipykernel)",
   "language": "python",
   "name": "python3"
  },
  "language_info": {
   "codemirror_mode": {
    "name": "ipython",
    "version": 3
   },
   "file_extension": ".py",
   "mimetype": "text/x-python",
   "name": "python",
   "nbconvert_exporter": "python",
   "pygments_lexer": "ipython3",
   "version": "3.11.4"
  }
 },
 "nbformat": 4,
 "nbformat_minor": 5
}
