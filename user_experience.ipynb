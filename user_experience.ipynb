{
 "cells": [
  {
   "cell_type": "code",
   "execution_count": null,
   "id": "03ad8754-8c9a-48b3-8b02-910f44cf38f5",
   "metadata": {},
   "outputs": [],
   "source": [
    "# user scrript/ desired ux functionality "
   ]
  },
  {
   "cell_type": "code",
   "execution_count": null,
   "id": "3d664bb7-ae44-4316-9787-77ebef8f29f0",
   "metadata": {},
   "outputs": [],
   "source": [
    "# Incorporate ingredients from my kitchen (digital pantry)\n",
    "#initialization - manual upload for initial ingredients \n",
    "##should be based on ingredients df and be a checklist \n",
    "# add functionality to update digital pantry with reciepts \n",
    "## scan recipt - parse for purchased items (and quantities?)"
   ]
  }
 ],
 "metadata": {
  "kernelspec": {
   "display_name": "Python 3 (ipykernel)",
   "language": "python",
   "name": "python3"
  },
  "language_info": {
   "codemirror_mode": {
    "name": "ipython",
    "version": 3
   },
   "file_extension": ".py",
   "mimetype": "text/x-python",
   "name": "python",
   "nbconvert_exporter": "python",
   "pygments_lexer": "ipython3",
   "version": "3.11.4"
  }
 },
 "nbformat": 4,
 "nbformat_minor": 5
}
