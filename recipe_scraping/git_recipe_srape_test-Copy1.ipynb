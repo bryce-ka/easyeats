{
 "cells": [
  {
   "cell_type": "code",
   "execution_count": 1,
   "id": "6a964aac-f81c-40cb-a771-3c47f8ecfbc4",
   "metadata": {
    "tags": []
   },
   "outputs": [],
   "source": [
    "from urllib.request import urlopen\n",
    "from bs4 import BeautifulSoup\n",
    "from IPython.display import clear_output\n",
    "import pandas as pd\n",
    "import time\n",
    "import random\n",
    "import pickle\n",
    "import lxml\n",
    "import requests\n",
    "import re \n",
    "import requests\n",
    "from bs4 import BeautifulSoup\n",
    "import re\n",
    "import time\n",
    "from recipe_scrapers import scrape_me\n",
    "import requests\n",
    "from bs4 import BeautifulSoup\n",
    "import time\n"
   ]
  },
  {
   "cell_type": "code",
   "execution_count": 13,
   "id": "8fc86457-883e-4f17-bb70-f7918f11778a",
   "metadata": {
    "tags": []
   },
   "outputs": [
    {
     "data": {
      "text/plain": [
       "{'author': 'FoodieGeek',\n",
       " 'canonical_url': 'https://www.allrecipes.com/recipe/158968/spinach-and-feta-turkey-burgers/',\n",
       " 'category': 'Dinner',\n",
       " 'cook_time': 15,\n",
       " 'cuisine': 'Mediterranean Inspired',\n",
       " 'description': 'These spinach and feta turkey burgers are moist and easy to make in one bowl with simple ingredients, shaped into patties, and cooked on a hot grill.',\n",
       " 'host': 'allrecipes.com',\n",
       " 'image': 'https://www.allrecipes.com/thmb/cpf6Rics5oHGq1TZ1df5fEaImwM=/1500x0/filters:no_upscale():max_bytes(150000):strip_icc()/1360550-582be362ee99424bb4f363c2274a9d0d.jpg',\n",
       " 'ingredient_groups': [{'ingredients': ['cooking spray',\n",
       "    '2 pounds ground turkey',\n",
       "    '1 (10 ounce) box frozen chopped spinach, thawed and squeezed dry',\n",
       "    '4 ounces feta cheese',\n",
       "    '2 large eggs, beaten',\n",
       "    '2 cloves garlic, minced'],\n",
       "   'purpose': None}],\n",
       " 'ingredients': ['cooking spray',\n",
       "  '2 pounds ground turkey',\n",
       "  '1 (10 ounce) box frozen chopped spinach, thawed and squeezed dry',\n",
       "  '4 ounces feta cheese',\n",
       "  '2 large eggs, beaten',\n",
       "  '2 cloves garlic, minced'],\n",
       " 'instructions': 'Preheat an outdoor grill for medium-high heat and lightly oil the grate.\\nMix together turkey, spinach, feta, eggs, and garlic in a large bowl until well combined; form into 8 patties.\\nCook patties on the preheated grill on both sides until no longer pink in the center, 15 to 20 minutes. An instant-read thermometer inserted into the center of patties should read at least 165 degrees F (74 degrees C).',\n",
       " 'instructions_list': ['Preheat an outdoor grill for medium-high heat and lightly oil the grate.',\n",
       "  'Mix together turkey, spinach, feta, eggs, and garlic in a large bowl until well combined; form into 8 patties.',\n",
       "  'Cook patties on the preheated grill on both sides until no longer pink in the center, 15 to 20 minutes. An instant-read thermometer inserted into the center of patties should read at least 165 degrees F (74 degrees C).'],\n",
       " 'language': 'en',\n",
       " 'nutrients': {'calories': '233 kcal',\n",
       "  'carbohydrateContent': '2 g',\n",
       "  'cholesterolContent': '143 mg',\n",
       "  'fiberContent': '1 g',\n",
       "  'proteinContent': '27 g',\n",
       "  'saturatedFatContent': '5 g',\n",
       "  'sodiumContent': '266 mg',\n",
       "  'sugarContent': '1 g',\n",
       "  'fatContent': '13 g',\n",
       "  'unsaturatedFatContent': '0 g'},\n",
       " 'prep_time': 20,\n",
       " 'ratings': 4.6,\n",
       " 'ratings_count': 857,\n",
       " 'site_name': 'Allrecipes',\n",
       " 'title': 'Spinach and Feta Turkey Burgers',\n",
       " 'total_time': 35,\n",
       " 'yields': '8 servings'}"
      ]
     },
     "execution_count": 13,
     "metadata": {},
     "output_type": "execute_result"
    }
   ],
   "source": [
    "scraper = scrape_me(\"https://www.allrecipes.com/recipe/158968/spinach-and-feta-turkey-burgers/\")\n",
    "# scraper.title()\n",
    "# scraper.instructions()\n",
    "scraper.to_json()\n",
    "# for a complete list of methods:\n"
   ]
  },
  {
   "cell_type": "code",
   "execution_count": 4,
   "id": "c40dad50-8ada-4da8-9080-fa551b924a08",
   "metadata": {
    "tags": []
   },
   "outputs": [
    {
     "name": "stdout",
     "output_type": "stream",
     "text": [
      "abeautifulmess.com\tacouplecooks.com\taflavorjournal.com\tahealthysliceoflife.com\talittlebityummy.com\taberlehome.com\tabuelascounter.com\taddapinch.com\tafghankitchenrecipes.com\takispetretzikis.com\talexandracooks.com\tallrecipes.com\tallthehealthythings.com\taltonbrown.com\tamazingribs.com\tambitiouskitchen.com\tamericastestkitchen.com\tameessavorydish.com\tarchanaskitchen.com\taveriecooks.com\tbbc.com\tbbcgoodfood.com\tbaking-sense.com\tbakingmischief.com\tbarefootcontessa.com\tbarefeetinthekitchen.com\tbarefootinthepines.com\tbetterfoodguru.com\tbettycrocker.com\tbeyondfrosting.com\tbiancazapatka.com\tbigoven.com\tbitsofcarey.com\tblueapron.com\tbluejeanchef.com\tbodybuilding.com\tbonappetit.com\tbowlofdelicious.com\tbongeats.com\tbreadtopia.com\tbrokenovenbaking.com\tbudgetbytes.com\tcafedelites.com\tcakemehometonight.com\tcambreabakes.com\tcarlsbadcravings.com\tcdkitchen.com\tcelebratingsweets.com\tchefjeanpierre.com\tchefsavvy.com\tchefnini.com\tclosetcooking.com\tcolleenchristensennutrition.com\tcomidinhasdochef.com\tcookeatshare.com\tcookpad.com\tcook-talk.com\tcookwell.com\tcookieandkate.com\tcookiesandcups.com\tcookingcircle.com\tcookinglight.com\tcookingwithjanica.com\tcookomix.com\tcookscountry.com\tcooksillustrated.com\tcopykat.com\tcostco.com\tcountryliving.com\tcreativecanning.com\tcuisineaz.com\tdavidlebovitz.com\tdelish.com\tdinneratthezoo.com\tdinnerthendessert.com\tdonalskehan.com\teatliverun.com\teatthismuch.com\telavegan.com\tevolvingtable.com\tfamilyfoodonthetable.com\tfeastingathome.com\tfitslowcookerqueen.com\t40aprons.com\tglutenfreeonashoestring.com\tgrandfrais.com\theatherchristo.com\tinbloombakery.com\tingoodflavor.com\tirishcentral.com\tjocooks.com\tjoshuaweissman.com\tjoythebaker.com\tjumbo.com\tkalejunkie.com\tkellyscleankitchen.com\tkitchendivas.com\tkitchendreaming.com\tkristineskitchenblog.com\tkrollskorner.com\tlacucinaitaliana.com\tlanascooking.com\tlittlesunnykitchen.com\tleitesculinaria.com\tmakeitdairyfree.com\tmccormick.com\tmealprepmanual.com\tmeganvskitchen.com\tmodernhoney.com\tmomontimeout.com\tmyjewishlearning.com\tmykoreankitchen.com\tmyvegetarianroots.com\tnatashaskitchen.com\tnoracooks.com\tnotenoughcinnamon.com\tonesweetappetite.com\tpeelwithzeal.com\tpinchofyum.com\tpotatorolls.com\tpreppykitchen.com\trecipegirl.com\trecipeland.com\tapp.samsungfood.com\tsandwichtribunal.com\tsavorynothings.com\tshelikesfood.com\tspainonafork.com\tstacyling.com\tstrongrfastr.com\tsugarhero.com\ttasteatlas.com\tthecookierookie.com\tthecookingguy.com\tthefoodietakesflight.com\ttheglutenfreeaustrian.com\ttheloopywhisk.com\tthemediterraneandish.com\tthepalatablelife.com\ttheplantbasedschool.com\tthesaltymarshmallow.com\tthinlicious.com\tdomesticate-me.com\tdownshiftology.com\teatwell101.com\teatwhattonight.com\teatingbirdfood.com\teatingwell.com\teatsmarter.com\tepicurious.com\terrenskitchen.com\tethanchlebowski.com\trecipes.farmhousedelivery.com\tfarmhouseonboone.com\tfifteenspatulas.com\tfinedininglovers.com\tfitmencook.com\tfood.com\tfood52.com\tfoodandwine.com\tfoodfidelity.com\tfoodnetwork.com\tfoodrepublic.com\tforktospoon.com\tforksoverknives.com\t750g.com\tgimmesomeoven.com\treceitas.globo.com\tgonnawantseconds.com\tgoodfooddiscoveries.com\tgoodhousekeeping.com\tgreatbritishchefs.com\tgrimgrains.com\tgrouprecipes.com\theb.com\thalfbakedharvest.com\thandletheheat.com\thassanchef.com\theadbangerskitchen.com\thellofresh.com\thersheyland.com\thomechef.com\thostthetoast.com\tim-worthy.com\tindianhealthyrecipes.com\tinnit.com\tinsanelygoodrecipes.com\tinspiralized.com\tizzycooking.com\tjamieoliver.com\tjimcooksfoodgood.com\tjoyfoodsunshine.com\tjustataste.com\tjustbento.com\tjustonecookbook.com\tkennymcgovern.com\tkingarthurbaking.com\tkitchenstories.com\tkitchensanctuary.com\tkochbucher.com\tkwestiasmaku.com\tlatelierderoxane.com\tlecremedelacrumb.com\tlekkerensimpel.com\tlifestyleofafoodie.com\tlittlespicejar.com\tlivelytable.com\tlovingitvegan.com\tmaangchi.com\tmadsvin.com\tmarthastewart.com\tmeljoulwan.com\tmelskitchencafe.com\tminimalistbaker.com\tministryofcurry.com\tmomswithcrockpots.com\tmotherthyme.com\tmybakingaddiction.com\tmykitchen101.com\tmykitchen101en.com\tmyrecipes.com\tnibbledish.com\tcooking.nytimes.com\tnorecipes.com\tnourishedbynutrition.com\tnumber-2-pencil.com\tnutritionbynathalie.com\tohsheglows.com\tomnivorescookbook.com\tonceuponachef.com\t101cookbooks.com\towen-han.com\tpaleorunningmomma.com\tpaninihappy.com\tpersnicketyplates.com\tpickuplimes.com\tpinkowlkitchen.com\tplatingpixels.com\tplowingthroughlife.com\tpopsugar.com\tpracticalselfreliance.com\tpressureluckcooking.com\tprimaledgehealth.com\tpurelypope.com\tpurplecarrot.com\trachlmansfield.com\trainbowplantlife.com\trealfood.tesco.com\trealsimple.com\treciperunner.com\trecipetineats.com\tredhousespice.com\trosannapansino.com\tsallysbakingaddiction.com\tsaltpepperskillet.com\tsaveur.com\tseriouseats.com\tsimple-veganista.com\tsimply-cookit.com\tsimplyquinoa.com\tsimplyrecipes.com\tsimplywhisked.com\tskinnytaste.com\tsoutherncastiron.com\tsouthernliving.com\tspendwithpennies.com\tstaysnatched.com\tsteamykitchen.com\tsunbasket.com\tsunset.com\tsweetcsdesigns.com\tsweetpeasandsaffron.com\ttasteofhome.com\ttastesbetterfromscratch.com\ttastesoflizzyt.com\ttastykitchen.com\ttheclevercarrot.com\tthekitchenmagpie.com\tthekitchn.com\tthemagicalslowcooker.com\tthemodernproper.com\tthepioneerwoman.com\tthespruceeats.com\tthevintagemixer.com\ttherecipecritic.com\tthewoksoflife.com\trecipes.timesofindia.com\ttwopeasandtheirpod.com\tunsophisticook.com\tvanillaandbean.com\tvegrecipesofindia.com\tveroniquecloutier.com\twaitrose.com\twatchwhatueat.com\twearenotmartha.com\twedishitup.com\tweightwatchers.com\twellplated.com\twhatsgabycooking.com\twhole30.com\twholefoodsmarket.com\twilliams-sonoma.com\tyemek.com\tyummly.com\tzenbelly.com\tgesund-aktiv.com\t"
     ]
    }
   ],
   "source": [
    "# help(scraper)\n",
    "from recipe_scrapers import SCRAPERS\n",
    "for site in list(SCRAPERS.keys()):\n",
    "    if '.com' == site[-4:]:\n",
    "        print(site, end = '\\t')\n",
    "        "
   ]
  },
  {
   "cell_type": "code",
   "execution_count": 7,
   "id": "660a34b1-01ae-4a30-9cd9-8643363638b6",
   "metadata": {},
   "outputs": [],
   "source": [
    "# need to look on each site, \n",
    "# find recipe index page \n",
    "# use developer tools to find where recipes are on page \n",
    "# ask chat gpt to get recipe links \n",
    "# identify how page indexes \n",
    "# save links "
   ]
  },
  {
   "cell_type": "code",
   "execution_count": 3,
   "id": "c1a91038-655a-46f7-af78-34aded8b3d59",
   "metadata": {
    "tags": []
   },
   "outputs": [
    {
     "name": "stdout",
     "output_type": "stream",
     "text": [
      "Scraping: https://www.wellplated.com/recipe-index/\n",
      "22\n"
     ]
    }
   ],
   "source": [
    "HEADERS = {\n",
    "    \"User-Agent\": \"Mozilla/5.0 (Windows NT 10.0; Win64; x64) AppleWebKit/537.36 (KHTML, like Gecko) Chrome/91.0.4472.124 Safari/537.36\"\n",
    "}\n",
    "\n",
    "def get_recipe_links_m(url):\n",
    "    \"\"\"Scrapes all recipe links from a given page.\"\"\"\n",
    "    recipe_links = []\n",
    "    \n",
    "    try:\n",
    "        response = requests.get(url, headers=HEADERS, timeout=10)\n",
    "        response.raise_for_status()\n",
    "        soup = BeautifulSoup(response.text, \"html.parser\")\n",
    "        soup = soup.find(\"div\", {\"class\":\"block-category-listing__inner\"})\n",
    "        # Find all recipe links inside <article> tags\n",
    "        for article in soup.find_all(\"a\", class_=\"cat\"):    # needs class update\n",
    "            recipe_links.append(article['href'])\n",
    "            # link_tag = article.find(\"a\")                                 # needs class update\n",
    "            # if link_tag and \"href\" in link_tag.attrs:\n",
    "            #     recipe_links.append(link_tag[\"href\"])\n",
    "\n",
    "    except requests.RequestException as e:\n",
    "        print(f\"Error fetching {url}: {e}\")\n",
    "\n",
    "    return recipe_links\n",
    "    \n",
    "    \n",
    "all_links = set()  # Use a set to avoid duplicates\n",
    "url = \"https://www.wellplated.com/recipe-index/\"  # Start with the first page\n",
    "\n",
    "\n",
    "print(f\"Scraping: {url}\")\n",
    "response = requests.get(url, headers=HEADERS, timeout=10)\n",
    "response.raise_for_status()\n",
    "soup = BeautifulSoup(response.text, \"html.parser\")\n",
    "\n",
    "# Get recipe links from the current page\n",
    "new_links = get_recipe_links_m(url)\n",
    "all_links.update(new_links)\n",
    "dirs = list(all_links)\n",
    "print(len(dirs))"
   ]
  },
  {
   "cell_type": "code",
   "execution_count": 12,
   "id": "959721c5-7e1a-4beb-bffe-c6580e3b1d2c",
   "metadata": {
    "tags": []
   },
   "outputs": [
    {
     "name": "stdout",
     "output_type": "stream",
     "text": [
      "Scraping: https://wedishitup.com/category/all-recipes/\n",
      "Scraping: https://wedishitup.com/category/all-recipes/page/2/\n",
      "Scraping: https://wedishitup.com/category/all-recipes/page/3/\n",
      "Scraping: https://wedishitup.com/category/all-recipes/page/4/\n",
      "Scraping: https://wedishitup.com/category/all-recipes/page/5/\n",
      "Scraping: https://wedishitup.com/category/all-recipes/page/6/\n",
      "Scraping: https://wedishitup.com/category/all-recipes/page/7/\n",
      "Scraping: https://wedishitup.com/category/all-recipes/page/8/\n",
      "Scraping: https://wedishitup.com/category/all-recipes/page/9/\n",
      "Scraping: https://wedishitup.com/category/all-recipes/page/10/\n",
      "Scraping: https://wedishitup.com/category/all-recipes/page/11/\n",
      "Scraping: https://wedishitup.com/category/all-recipes/page/12/\n",
      "Scraping: https://wedishitup.com/category/all-recipes/page/13/\n",
      "Scraping: https://wedishitup.com/category/all-recipes/page/14/\n",
      "Scraping: https://wedishitup.com/category/all-recipes/page/15/\n",
      "Scraping: https://wedishitup.com/category/all-recipes/page/16/\n",
      "Scraping: https://wedishitup.com/category/all-recipes/page/17/\n",
      "Scraping: https://wedishitup.com/category/all-recipes/page/18/\n",
      "✅ Scraping completed! 342 links saved to wedishitup.txt\n"
     ]
    }
   ],
   "source": [
    "def get_recipe_links(url):\n",
    "    \"\"\"Scrapes all recipe links from a given page.\"\"\"\n",
    "    recipe_links = []\n",
    "    \n",
    "    try:\n",
    "        response = requests.get(url, headers=HEADERS, timeout=10)\n",
    "        response.raise_for_status()\n",
    "        soup = BeautifulSoup(response.text, \"html.parser\")\n",
    "        \n",
    "        # Find all recipe links inside <article> tags\n",
    "        for article in soup.find_all(\"li\", class_=\"listing-item\"):    # needs class update\n",
    "            link_tag = article.find(\"a\")                                 # needs class update\n",
    "            if link_tag and \"href\" in link_tag.attrs:\n",
    "                recipe_links.append(link_tag[\"href\"])\n",
    "\n",
    "    except requests.RequestException as e:\n",
    "        print(f\"Error fetching {url}: {e}\")\n",
    "\n",
    "    return recipe_links\n",
    "\n",
    "\n",
    "def find_pagination(soup):\n",
    "    \"\"\"Finds the next page link for pagination.\"\"\"\n",
    "    \n",
    "    # # Find the pagination div\n",
    "    next_page = soup.find(\"nav\", class_ = \"navigation pagination\")\n",
    "    next_page_tag = next_page.find(\"a\", class_=\"next page-numbers\")\n",
    "    \n",
    "    try:\n",
    "        return next_page_tag['href']\n",
    "    except:\n",
    "        return None  # No next page found\n",
    "\n",
    "def scrape_all_recipes(BASE_URL):\n",
    "    \"\"\"Finds and saves all recipe links from paginated index pages.\"\"\"\n",
    "    all_links = set()  # Use a set to avoid duplicates\n",
    "    url = BASE_URL  # Start with the first page\n",
    "\n",
    "    while url:\n",
    "        print(f\"Scraping: {url}\")\n",
    "        response = requests.get(url, headers=HEADERS, timeout=10)\n",
    "        response.raise_for_status()\n",
    "        soup = BeautifulSoup(response.text, \"html.parser\")\n",
    "\n",
    "        # Get recipe links from the current page\n",
    "        new_links = get_recipe_links(url)\n",
    "        all_links.update(new_links)\n",
    "        \n",
    "        try:\n",
    "            # Find the next page for pagination\n",
    "            url = find_pagination(soup)\n",
    "            # Optional delay to prevent rate-limiting\n",
    "            time.sleep(2)\n",
    "        except:\n",
    "            return None\n",
    "        \n",
    "        \n",
    "\n",
    "    # Save links to a file\n",
    "    with open(OUTPUT_FILE, \"a\") as file:\n",
    "        for link in all_links:\n",
    "            file.write(link + \"\\n\")\n",
    "    \n",
    "    print(f\"✅ Scraping completed! {len(all_links)} links saved to {OUTPUT_FILE}\")\n",
    "\n",
    "# Run the scraper\n",
    "OUTPUT_FILE = \"wedishitup.txt\"\n",
    "scrape_all_recipes(\"https://wedishitup.com/category/all-recipes/\")\n",
    "# for directory in dirs:\n",
    "#     scrape_all_recipes(directory)\n",
    "    "
   ]
  }
 ],
 "metadata": {
  "kernelspec": {
   "display_name": "Python 3 (ipykernel)",
   "language": "python",
   "name": "python3"
  },
  "language_info": {
   "codemirror_mode": {
    "name": "ipython",
    "version": 3
   },
   "file_extension": ".py",
   "mimetype": "text/x-python",
   "name": "python",
   "nbconvert_exporter": "python",
   "pygments_lexer": "ipython3",
   "version": "3.11.4"
  }
 },
 "nbformat": 4,
 "nbformat_minor": 5
}
