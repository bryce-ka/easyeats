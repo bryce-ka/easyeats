{
 "cells": [
  {
   "cell_type": "code",
   "execution_count": 1,
   "id": "d032256f-2f11-4fc2-a87c-a8ee7ae4a650",
   "metadata": {
    "tags": []
   },
   "outputs": [],
   "source": [
    "# combining site recipe directories into a single file"
   ]
  },
  {
   "cell_type": "code",
   "execution_count": 3,
   "id": "88b32c0b-336e-4306-a75e-bd190c431c72",
   "metadata": {
    "tags": []
   },
   "outputs": [],
   "source": [
    "from os import listdir as ls "
   ]
  },
  {
   "cell_type": "code",
   "execution_count": 10,
   "id": "ed07aa05-8a72-4f99-b1b1-56dafb8071f5",
   "metadata": {
    "tags": []
   },
   "outputs": [],
   "source": [
    "site_files = []\n",
    "for file in ls():\n",
    "    if file[-3:] == \"txt\" and file != \"'proxies_list.txt\":\n",
    "        site_files.append(file)"
   ]
  },
  {
   "cell_type": "code",
   "execution_count": 11,
   "id": "82aa777b-2f46-4ebc-b9fe-9ec64e305b1f",
   "metadata": {
    "tags": []
   },
   "outputs": [
    {
     "ename": "SyntaxError",
     "evalue": "expected ':' (2012020000.py, line 2)",
     "output_type": "error",
     "traceback": [
      "\u001b[0;36m  Cell \u001b[0;32mIn[11], line 2\u001b[0;36m\u001b[0m\n\u001b[0;31m    with open\u001b[0m\n\u001b[0m              ^\u001b[0m\n\u001b[0;31mSyntaxError\u001b[0m\u001b[0;31m:\u001b[0m expected ':'\n"
     ]
    }
   ],
   "source": [
    "for file in site_files:\n",
    "    with open "
   ]
  }
 ],
 "metadata": {
  "kernelspec": {
   "display_name": "Python 3 (ipykernel)",
   "language": "python",
   "name": "python3"
  },
  "language_info": {
   "codemirror_mode": {
    "name": "ipython",
    "version": 3
   },
   "file_extension": ".py",
   "mimetype": "text/x-python",
   "name": "python",
   "nbconvert_exporter": "python",
   "pygments_lexer": "ipython3",
   "version": "3.11.4"
  }
 },
 "nbformat": 4,
 "nbformat_minor": 5
}
