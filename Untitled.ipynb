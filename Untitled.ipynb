{
 "cells": [
  {
   "cell_type": "markdown",
   "id": "1008ea51-04b8-443e-9e61-5a392b37d5a7",
   "metadata": {
    "tags": []
   },
   "source": [
    "# Recipe Scraping Analysis "
   ]
  },
  {
   "cell_type": "code",
   "execution_count": 22,
   "id": "191a0642-877d-416d-a693-9ec4b68a3a45",
   "metadata": {
    "tags": []
   },
   "outputs": [],
   "source": [
    "from pymongo import MongoClient\n",
    "import pandas as pd \n",
    "pd.set_option('display.max_columns', None) \n",
    "from IPython.display import display "
   ]
  },
  {
   "cell_type": "code",
   "execution_count": 2,
   "id": "20040392-2363-4f3f-8426-04e15c267784",
   "metadata": {
    "tags": []
   },
   "outputs": [
    {
     "name": "stdout",
     "output_type": "stream",
     "text": [
      "Collections: ['whatsgabycooking', 'sallysbakingaddiction', 'wellplated', 'acouplecooks_recipes', 'wedishitup', 'ahealthysliceoflife', 'abeautifulmess_recipes']\n"
     ]
    }
   ],
   "source": [
    "# Connect to MongoDB\n",
    "client = MongoClient()\n",
    "db = client['recipe_db']  # Replace with your database name\n",
    "\n",
    "# List all collections (tables)\n",
    "collections = db.list_collection_names()\n",
    "print(\"Collections:\", collections)"
   ]
  },
  {
   "cell_type": "code",
   "execution_count": 3,
   "id": "238fd0a4-e21c-47bd-9f37-e63ac851408a",
   "metadata": {
    "tags": []
   },
   "outputs": [],
   "source": [
    "# Function to convert all collections into a single DataFrame\n",
    "def load_all_collections(db):\n",
    "    all_data = []  # List to store all documents\n",
    "\n",
    "    for collection_name in db.list_collection_names():\n",
    "        collection = db[collection_name]  # Access collection\n",
    "        documents = list(collection.find())  # Convert to list\n",
    "        for doc in documents:\n",
    "            doc['_collection'] = collection_name  # Track source collection\n",
    "            doc.pop('_id', None)  # Remove MongoDB's default `_id`\n",
    "        all_data.extend(documents)\n",
    "\n",
    "    # Convert list of dicts to DataFrame\n",
    "    df = pd.DataFrame(all_data)\n",
    "    return df\n",
    "\n",
    "# Load into DataFrame\n",
    "df = load_all_collections(db)"
   ]
  },
  {
   "cell_type": "code",
   "execution_count": 23,
   "id": "1fcab33d-f136-4355-833d-69e1d7ddba0a",
   "metadata": {
    "tags": []
   },
   "outputs": [
    {
     "data": {
      "text/html": [
       "<div>\n",
       "<style scoped>\n",
       "    .dataframe tbody tr th:only-of-type {\n",
       "        vertical-align: middle;\n",
       "    }\n",
       "\n",
       "    .dataframe tbody tr th {\n",
       "        vertical-align: top;\n",
       "    }\n",
       "\n",
       "    .dataframe thead th {\n",
       "        text-align: right;\n",
       "    }\n",
       "</style>\n",
       "<table border=\"1\" class=\"dataframe\">\n",
       "  <thead>\n",
       "    <tr style=\"text-align: right;\">\n",
       "      <th></th>\n",
       "      <th>canonical_url</th>\n",
       "      <th>host</th>\n",
       "      <th>image</th>\n",
       "      <th>language</th>\n",
       "      <th>site_name</th>\n",
       "      <th>_collection</th>\n",
       "      <th>author</th>\n",
       "      <th>category</th>\n",
       "      <th>cook_time</th>\n",
       "      <th>cuisine</th>\n",
       "      <th>description</th>\n",
       "      <th>ingredient_groups</th>\n",
       "      <th>ingredients</th>\n",
       "      <th>instructions</th>\n",
       "      <th>instructions_list</th>\n",
       "      <th>keywords</th>\n",
       "      <th>nutrients</th>\n",
       "      <th>prep_time</th>\n",
       "      <th>ratings</th>\n",
       "      <th>ratings_count</th>\n",
       "      <th>title</th>\n",
       "      <th>total_time</th>\n",
       "      <th>yields</th>\n",
       "      <th>cooking_method</th>\n",
       "      <th>dietary_restrictions</th>\n",
       "      <th>equipment</th>\n",
       "    </tr>\n",
       "  </thead>\n",
       "  <tbody>\n",
       "    <tr>\n",
       "      <th>1</th>\n",
       "      <td>https://whatsgabycooking.com/14-of-our-favorit...</td>\n",
       "      <td>whatsgabycooking.com</td>\n",
       "      <td>https://whatsgabycooking.com/wp-content/upload...</td>\n",
       "      <td>en-US</td>\n",
       "      <td>What's Gaby Cooking</td>\n",
       "      <td>whatsgabycooking</td>\n",
       "      <td>Gaby Dalkin</td>\n",
       "      <td>Dessert</td>\n",
       "      <td>20.0</td>\n",
       "      <td>American</td>\n",
       "      <td>Strawberry Blueberry Shortcakes are the desser...</td>\n",
       "      <td>[{'ingredients': ['3 cups all purpose flour', ...</td>\n",
       "      <td>[3 cups all purpose flour, 2 teaspoons lemon z...</td>\n",
       "      <td>For the Biscuits\\nCombine the flour, lemon zes...</td>\n",
       "      <td>[For the Biscuits, Combine the flour, lemon ze...</td>\n",
       "      <td>[strawberry shortcake, blueberry shortcake]</td>\n",
       "      <td>{'calories': '731 kcal', 'carbohydrateContent'...</td>\n",
       "      <td>15.0</td>\n",
       "      <td>5.00</td>\n",
       "      <td>1.0</td>\n",
       "      <td>Strawberry Blueberry Shortcakes</td>\n",
       "      <td>35.0</td>\n",
       "      <td>9 servings</td>\n",
       "      <td>NaN</td>\n",
       "      <td>NaN</td>\n",
       "      <td>NaN</td>\n",
       "    </tr>\n",
       "    <tr>\n",
       "      <th>2</th>\n",
       "      <td>https://whatsgabycooking.com/raspberry-brownies/</td>\n",
       "      <td>whatsgabycooking.com</td>\n",
       "      <td>https://whatsgabycooking.com/wp-content/upload...</td>\n",
       "      <td>en-US</td>\n",
       "      <td>What's Gaby Cooking</td>\n",
       "      <td>whatsgabycooking</td>\n",
       "      <td>Gaby Dalkin</td>\n",
       "      <td>Dessert</td>\n",
       "      <td>50.0</td>\n",
       "      <td>American</td>\n",
       "      <td>These Raspberry Swirled Brownies are the most ...</td>\n",
       "      <td>[{'ingredients': ['240 grams dark chocolate (a...</td>\n",
       "      <td>[240 grams dark chocolate (approximately 1½ cu...</td>\n",
       "      <td>Preheat the oven to 325° F.\\nCombine the choco...</td>\n",
       "      <td>[Preheat the oven to 325° F., Combine the choc...</td>\n",
       "      <td>[brownies, raspberry brownies, how to make bro...</td>\n",
       "      <td>{'calories': '358 kcal', 'carbohydrateContent'...</td>\n",
       "      <td>10.0</td>\n",
       "      <td>4.67</td>\n",
       "      <td>21.0</td>\n",
       "      <td>Raspberry Swirled Brownies</td>\n",
       "      <td>195.0</td>\n",
       "      <td>16 servings</td>\n",
       "      <td>NaN</td>\n",
       "      <td>NaN</td>\n",
       "      <td>NaN</td>\n",
       "    </tr>\n",
       "    <tr>\n",
       "      <th>3</th>\n",
       "      <td>https://whatsgabycooking.com/pineapple-sheet-c...</td>\n",
       "      <td>whatsgabycooking.com</td>\n",
       "      <td>https://whatsgabycooking.com/wp-content/upload...</td>\n",
       "      <td>en-US</td>\n",
       "      <td>What's Gaby Cooking</td>\n",
       "      <td>whatsgabycooking</td>\n",
       "      <td>Gaby Dalkin</td>\n",
       "      <td>Dessert</td>\n",
       "      <td>35.0</td>\n",
       "      <td>American</td>\n",
       "      <td>Pineapple Sheet Cake – the breakfast and desse...</td>\n",
       "      <td>[{'ingredients': ['2 cups white sugar', '2 egg...</td>\n",
       "      <td>[2 cups white sugar, 2 eggs (at room temperatu...</td>\n",
       "      <td>Preheat the oven to 350 degrees F.\\nLine a 9x1...</td>\n",
       "      <td>[Preheat the oven to 350 degrees F., Line a 9x...</td>\n",
       "      <td>[cream cheese frosting, pineapple sheet cake]</td>\n",
       "      <td>{'calories': '233 kcal', 'carbohydrateContent'...</td>\n",
       "      <td>15.0</td>\n",
       "      <td>4.81</td>\n",
       "      <td>21.0</td>\n",
       "      <td>Pineapple Sheet Cake with Cream Cheese Frosting</td>\n",
       "      <td>50.0</td>\n",
       "      <td>20 servings</td>\n",
       "      <td>NaN</td>\n",
       "      <td>NaN</td>\n",
       "      <td>NaN</td>\n",
       "    </tr>\n",
       "    <tr>\n",
       "      <th>4</th>\n",
       "      <td>https://whatsgabycooking.com/magic-bar-brownies/</td>\n",
       "      <td>whatsgabycooking.com</td>\n",
       "      <td>https://whatsgabycooking.com/wp-content/upload...</td>\n",
       "      <td>en-US</td>\n",
       "      <td>What's Gaby Cooking</td>\n",
       "      <td>whatsgabycooking</td>\n",
       "      <td>Gaby Dalkin</td>\n",
       "      <td>Dessert,Snack</td>\n",
       "      <td>60.0</td>\n",
       "      <td>American</td>\n",
       "      <td>Magic Bar Brownies have been big since before ...</td>\n",
       "      <td>[{'ingredients': ['240 grams dark chocolate (a...</td>\n",
       "      <td>[240 grams dark chocolate (approx 1½ cups regu...</td>\n",
       "      <td>Preheat the oven to 325° F. Line a 9×13 pan wi...</td>\n",
       "      <td>[Preheat the oven to 325° F. Line a 9×13 pan w...</td>\n",
       "      <td>[best brownies]</td>\n",
       "      <td>{'calories': '611 kcal', 'carbohydrateContent'...</td>\n",
       "      <td>30.0</td>\n",
       "      <td>5.00</td>\n",
       "      <td>3.0</td>\n",
       "      <td>Magic Bar Brownies</td>\n",
       "      <td>90.0</td>\n",
       "      <td>16 servings</td>\n",
       "      <td>NaN</td>\n",
       "      <td>NaN</td>\n",
       "      <td>NaN</td>\n",
       "    </tr>\n",
       "    <tr>\n",
       "      <th>5</th>\n",
       "      <td>https://whatsgabycooking.com/grilled-peaches-w...</td>\n",
       "      <td>whatsgabycooking.com</td>\n",
       "      <td>https://whatsgabycooking.com/wp-content/upload...</td>\n",
       "      <td>en-US</td>\n",
       "      <td>What's Gaby Cooking</td>\n",
       "      <td>whatsgabycooking</td>\n",
       "      <td>Gaby Dalkin</td>\n",
       "      <td>Dessert</td>\n",
       "      <td>4.0</td>\n",
       "      <td>Mediterranean,American</td>\n",
       "      <td>There’s really nothing quite like Grilled Peac...</td>\n",
       "      <td>[{'ingredients': ['2 ripe peaches', '2 ripe ne...</td>\n",
       "      <td>[2 ripe peaches, 2 ripe nectarines, canola oil...</td>\n",
       "      <td>Heat grill to medium high heat.\\nBrush the pea...</td>\n",
       "      <td>[Heat grill to medium high heat., Brush the pe...</td>\n",
       "      <td>[grilled peaches, peaches and ice cream]</td>\n",
       "      <td>{'calories': '166 kcal', 'carbohydrateContent'...</td>\n",
       "      <td>1.0</td>\n",
       "      <td>5.00</td>\n",
       "      <td>2.0</td>\n",
       "      <td>Grilled Peaches with Vanilla Ice Cream</td>\n",
       "      <td>5.0</td>\n",
       "      <td>8 servings</td>\n",
       "      <td>NaN</td>\n",
       "      <td>NaN</td>\n",
       "      <td>NaN</td>\n",
       "    </tr>\n",
       "  </tbody>\n",
       "</table>\n",
       "</div>"
      ],
      "text/plain": [
       "                                       canonical_url                  host  \\\n",
       "1  https://whatsgabycooking.com/14-of-our-favorit...  whatsgabycooking.com   \n",
       "2   https://whatsgabycooking.com/raspberry-brownies/  whatsgabycooking.com   \n",
       "3  https://whatsgabycooking.com/pineapple-sheet-c...  whatsgabycooking.com   \n",
       "4   https://whatsgabycooking.com/magic-bar-brownies/  whatsgabycooking.com   \n",
       "5  https://whatsgabycooking.com/grilled-peaches-w...  whatsgabycooking.com   \n",
       "\n",
       "                                               image language  \\\n",
       "1  https://whatsgabycooking.com/wp-content/upload...    en-US   \n",
       "2  https://whatsgabycooking.com/wp-content/upload...    en-US   \n",
       "3  https://whatsgabycooking.com/wp-content/upload...    en-US   \n",
       "4  https://whatsgabycooking.com/wp-content/upload...    en-US   \n",
       "5  https://whatsgabycooking.com/wp-content/upload...    en-US   \n",
       "\n",
       "             site_name       _collection       author       category  \\\n",
       "1  What's Gaby Cooking  whatsgabycooking  Gaby Dalkin        Dessert   \n",
       "2  What's Gaby Cooking  whatsgabycooking  Gaby Dalkin        Dessert   \n",
       "3  What's Gaby Cooking  whatsgabycooking  Gaby Dalkin        Dessert   \n",
       "4  What's Gaby Cooking  whatsgabycooking  Gaby Dalkin  Dessert,Snack   \n",
       "5  What's Gaby Cooking  whatsgabycooking  Gaby Dalkin        Dessert   \n",
       "\n",
       "   cook_time                 cuisine  \\\n",
       "1       20.0                American   \n",
       "2       50.0                American   \n",
       "3       35.0                American   \n",
       "4       60.0                American   \n",
       "5        4.0  Mediterranean,American   \n",
       "\n",
       "                                         description  \\\n",
       "1  Strawberry Blueberry Shortcakes are the desser...   \n",
       "2  These Raspberry Swirled Brownies are the most ...   \n",
       "3  Pineapple Sheet Cake – the breakfast and desse...   \n",
       "4  Magic Bar Brownies have been big since before ...   \n",
       "5  There’s really nothing quite like Grilled Peac...   \n",
       "\n",
       "                                   ingredient_groups  \\\n",
       "1  [{'ingredients': ['3 cups all purpose flour', ...   \n",
       "2  [{'ingredients': ['240 grams dark chocolate (a...   \n",
       "3  [{'ingredients': ['2 cups white sugar', '2 egg...   \n",
       "4  [{'ingredients': ['240 grams dark chocolate (a...   \n",
       "5  [{'ingredients': ['2 ripe peaches', '2 ripe ne...   \n",
       "\n",
       "                                         ingredients  \\\n",
       "1  [3 cups all purpose flour, 2 teaspoons lemon z...   \n",
       "2  [240 grams dark chocolate (approximately 1½ cu...   \n",
       "3  [2 cups white sugar, 2 eggs (at room temperatu...   \n",
       "4  [240 grams dark chocolate (approx 1½ cups regu...   \n",
       "5  [2 ripe peaches, 2 ripe nectarines, canola oil...   \n",
       "\n",
       "                                        instructions  \\\n",
       "1  For the Biscuits\\nCombine the flour, lemon zes...   \n",
       "2  Preheat the oven to 325° F.\\nCombine the choco...   \n",
       "3  Preheat the oven to 350 degrees F.\\nLine a 9x1...   \n",
       "4  Preheat the oven to 325° F. Line a 9×13 pan wi...   \n",
       "5  Heat grill to medium high heat.\\nBrush the pea...   \n",
       "\n",
       "                                   instructions_list  \\\n",
       "1  [For the Biscuits, Combine the flour, lemon ze...   \n",
       "2  [Preheat the oven to 325° F., Combine the choc...   \n",
       "3  [Preheat the oven to 350 degrees F., Line a 9x...   \n",
       "4  [Preheat the oven to 325° F. Line a 9×13 pan w...   \n",
       "5  [Heat grill to medium high heat., Brush the pe...   \n",
       "\n",
       "                                            keywords  \\\n",
       "1        [strawberry shortcake, blueberry shortcake]   \n",
       "2  [brownies, raspberry brownies, how to make bro...   \n",
       "3      [cream cheese frosting, pineapple sheet cake]   \n",
       "4                                    [best brownies]   \n",
       "5           [grilled peaches, peaches and ice cream]   \n",
       "\n",
       "                                           nutrients  prep_time  ratings  \\\n",
       "1  {'calories': '731 kcal', 'carbohydrateContent'...       15.0     5.00   \n",
       "2  {'calories': '358 kcal', 'carbohydrateContent'...       10.0     4.67   \n",
       "3  {'calories': '233 kcal', 'carbohydrateContent'...       15.0     4.81   \n",
       "4  {'calories': '611 kcal', 'carbohydrateContent'...       30.0     5.00   \n",
       "5  {'calories': '166 kcal', 'carbohydrateContent'...        1.0     5.00   \n",
       "\n",
       "   ratings_count                                            title  total_time  \\\n",
       "1            1.0                  Strawberry Blueberry Shortcakes        35.0   \n",
       "2           21.0                       Raspberry Swirled Brownies       195.0   \n",
       "3           21.0  Pineapple Sheet Cake with Cream Cheese Frosting        50.0   \n",
       "4            3.0                               Magic Bar Brownies        90.0   \n",
       "5            2.0           Grilled Peaches with Vanilla Ice Cream         5.0   \n",
       "\n",
       "        yields cooking_method dietary_restrictions equipment  \n",
       "1   9 servings            NaN                  NaN       NaN  \n",
       "2  16 servings            NaN                  NaN       NaN  \n",
       "3  20 servings            NaN                  NaN       NaN  \n",
       "4  16 servings            NaN                  NaN       NaN  \n",
       "5   8 servings            NaN                  NaN       NaN  "
      ]
     },
     "execution_count": 23,
     "metadata": {},
     "output_type": "execute_result"
    }
   ],
   "source": [
    "df.head()"
   ]
  },
  {
   "cell_type": "code",
   "execution_count": 5,
   "id": "e9d8cb68-cb5c-40fe-8e3a-965a0e61a0d9",
   "metadata": {
    "tags": []
   },
   "outputs": [],
   "source": [
    "# data cleaning"
   ]
  },
  {
   "cell_type": "code",
   "execution_count": 6,
   "id": "2436b83b-46c0-409e-a0d9-f515ae0eea0d",
   "metadata": {
    "tags": []
   },
   "outputs": [
    {
     "name": "stdout",
     "output_type": "stream",
     "text": [
      "<class 'pandas.core.frame.DataFrame'>\n",
      "RangeIndex: 9848 entries, 0 to 9847\n",
      "Data columns (total 26 columns):\n",
      " #   Column                Non-Null Count  Dtype  \n",
      "---  ------                --------------  -----  \n",
      " 0   canonical_url         9848 non-null   object \n",
      " 1   host                  9848 non-null   object \n",
      " 2   image                 9823 non-null   object \n",
      " 3   language              9848 non-null   object \n",
      " 4   site_name             9848 non-null   object \n",
      " 5   _collection           9848 non-null   object \n",
      " 6   author                8916 non-null   object \n",
      " 7   category              8470 non-null   object \n",
      " 8   cook_time             6030 non-null   float64\n",
      " 9   cuisine               8346 non-null   object \n",
      " 10  description           8915 non-null   object \n",
      " 11  ingredient_groups     8923 non-null   object \n",
      " 12  ingredients           8930 non-null   object \n",
      " 13  instructions          9000 non-null   object \n",
      " 14  instructions_list     9000 non-null   object \n",
      " 15  keywords              8468 non-null   object \n",
      " 16  nutrients             8916 non-null   object \n",
      " 17  prep_time             8242 non-null   float64\n",
      " 18  ratings               7401 non-null   float64\n",
      " 19  ratings_count         7401 non-null   float64\n",
      " 20  title                 8916 non-null   object \n",
      " 21  total_time            8349 non-null   float64\n",
      " 22  yields                8581 non-null   object \n",
      " 23  cooking_method        4408 non-null   object \n",
      " 24  dietary_restrictions  2195 non-null   object \n",
      " 25  equipment             714 non-null    object \n",
      "dtypes: float64(5), object(21)\n",
      "memory usage: 2.0+ MB\n"
     ]
    }
   ],
   "source": [
    "df.info()"
   ]
  },
  {
   "cell_type": "code",
   "execution_count": 44,
   "id": "29829ff8-9dab-44f8-aa9b-3be097959d14",
   "metadata": {
    "tags": []
   },
   "outputs": [],
   "source": [
    "df = df[\n",
    "    ~((df['ingredients'].isna()) | df['ingredients'].astype(str).isin(['{}', '[]'])) & \n",
    "    ~((df['instructions'].isna()) | df['instructions'].astype(str).isin(['{}', '[]']))\n",
    "]"
   ]
  },
  {
   "cell_type": "code",
   "execution_count": 45,
   "id": "a649cad2-7c3f-4afb-aaf5-cdbd452ffab3",
   "metadata": {
    "tags": []
   },
   "outputs": [
    {
     "name": "stdout",
     "output_type": "stream",
     "text": [
      "<class 'pandas.core.frame.DataFrame'>\n",
      "Int64Index: 8819 entries, 1 to 9847\n",
      "Data columns (total 26 columns):\n",
      " #   Column                Non-Null Count  Dtype  \n",
      "---  ------                --------------  -----  \n",
      " 0   canonical_url         8819 non-null   object \n",
      " 1   host                  8819 non-null   object \n",
      " 2   image                 8819 non-null   object \n",
      " 3   language              8819 non-null   object \n",
      " 4   site_name             8819 non-null   object \n",
      " 5   _collection           8819 non-null   object \n",
      " 6   author                8819 non-null   object \n",
      " 7   category              8445 non-null   object \n",
      " 8   cook_time             5965 non-null   float64\n",
      " 9   cuisine               8329 non-null   object \n",
      " 10  description           8818 non-null   object \n",
      " 11  ingredient_groups     8812 non-null   object \n",
      " 12  ingredients           8819 non-null   object \n",
      " 13  instructions          8819 non-null   object \n",
      " 14  instructions_list     8819 non-null   object \n",
      " 15  keywords              8447 non-null   object \n",
      " 16  nutrients             8819 non-null   object \n",
      " 17  prep_time             8154 non-null   float64\n",
      " 18  ratings               7341 non-null   float64\n",
      " 19  ratings_count         7341 non-null   float64\n",
      " 20  title                 8819 non-null   object \n",
      " 21  total_time            8260 non-null   float64\n",
      " 22  yields                8502 non-null   object \n",
      " 23  cooking_method        4407 non-null   object \n",
      " 24  dietary_restrictions  2195 non-null   object \n",
      " 25  equipment             713 non-null    object \n",
      "dtypes: float64(5), object(21)\n",
      "memory usage: 1.8+ MB\n"
     ]
    }
   ],
   "source": [
    "df.info()"
   ]
  },
  {
   "cell_type": "code",
   "execution_count": 46,
   "id": "3cb4233c-9f5c-4b15-8994-93a38a8a0c9e",
   "metadata": {
    "tags": []
   },
   "outputs": [
    {
     "data": {
      "text/plain": [
       "Main Course                    686\n",
       "Dessert                        676\n",
       "Side Dish                      433\n",
       "Breakfast                      353\n",
       "Main Dish                      323\n",
       "                              ... \n",
       "Breakfast,Drinks,Smoothie        1\n",
       "Snacks                           1\n",
       "Appetizer,Snack,Lunch            1\n",
       "Main Course,Lunch,Breakfast      1\n",
       "brunch,Drinks                    1\n",
       "Name: category, Length: 241, dtype: int64"
      ]
     },
     "execution_count": 46,
     "metadata": {},
     "output_type": "execute_result"
    }
   ],
   "source": [
    "nutrition_df = df[df['nutrients']!= {}] # 5k recipes not bad \n",
    "nutrition_df['category'].value_counts()"
   ]
  },
  {
   "cell_type": "code",
   "execution_count": 47,
   "id": "72e2e8b9-b442-487b-a9ae-552ff5748589",
   "metadata": {
    "tags": []
   },
   "outputs": [
    {
     "name": "stdout",
     "output_type": "stream",
     "text": [
      "<class 'pandas.core.frame.DataFrame'>\n",
      "Int64Index: 5582 entries, 1 to 9847\n",
      "Data columns (total 26 columns):\n",
      " #   Column                Non-Null Count  Dtype  \n",
      "---  ------                --------------  -----  \n",
      " 0   canonical_url         5582 non-null   object \n",
      " 1   host                  5582 non-null   object \n",
      " 2   image                 5582 non-null   object \n",
      " 3   language              5582 non-null   object \n",
      " 4   site_name             5582 non-null   object \n",
      " 5   _collection           5582 non-null   object \n",
      " 6   author                5582 non-null   object \n",
      " 7   category              5544 non-null   object \n",
      " 8   cook_time             4153 non-null   float64\n",
      " 9   cuisine               5481 non-null   object \n",
      " 10  description           5582 non-null   object \n",
      " 11  ingredient_groups     5578 non-null   object \n",
      " 12  ingredients           5582 non-null   object \n",
      " 13  instructions          5582 non-null   object \n",
      " 14  instructions_list     5582 non-null   object \n",
      " 15  keywords              5535 non-null   object \n",
      " 16  nutrients             5582 non-null   object \n",
      " 17  prep_time             5383 non-null   float64\n",
      " 18  ratings               4917 non-null   float64\n",
      " 19  ratings_count         4917 non-null   float64\n",
      " 20  title                 5582 non-null   object \n",
      " 21  total_time            5455 non-null   float64\n",
      " 22  yields                5542 non-null   object \n",
      " 23  cooking_method        1945 non-null   object \n",
      " 24  dietary_restrictions  1250 non-null   object \n",
      " 25  equipment             490 non-null    object \n",
      "dtypes: float64(5), object(21)\n",
      "memory usage: 1.1+ MB\n"
     ]
    }
   ],
   "source": [
    "nutrition_df.info()"
   ]
  },
  {
   "cell_type": "code",
   "execution_count": 66,
   "id": "542b7a7a-f675-433d-89c3-fb08e8520e7f",
   "metadata": {
    "tags": []
   },
   "outputs": [
    {
     "name": "stdout",
     "output_type": "stream",
     "text": [
      "ingredient_groups    [{'ingredients': ['3 cups all purpose flour', ...\n",
      "Name: 1, dtype: object\n"
     ]
    }
   ],
   "source": [
    "print(nutrition_df[['ingredient_groups']].loc[1])"
   ]
  },
  {
   "cell_type": "code",
   "execution_count": 55,
   "id": "97daae7e-64a4-44c0-9ae2-ca4f4719862a",
   "metadata": {
    "tags": []
   },
   "outputs": [
    {
     "data": {
      "text/plain": [
       "1       [3 cups all purpose flour, 2 teaspoons lemon z...\n",
       "2       [240 grams dark chocolate (approximately 1½ cu...\n",
       "3       [2 cups white sugar, 2 eggs (at room temperatu...\n",
       "4       [240 grams dark chocolate (approx 1½ cups regu...\n",
       "5       [2 ripe peaches, 2 ripe nectarines, canola oil...\n",
       "                              ...                        \n",
       "9836    [2 1/2 pounds apples, ½ cup brown sugar, ½ cup...\n",
       "9840    [2 ¼ cups cranberry juice cocktail, 1 box cran...\n",
       "9843    [6 ounces hot coffee, 1-2 teaspoons sugar, 1½ ...\n",
       "9844    [12 ounces Chex cereal, 1 cup semi-sweet choco...\n",
       "9847    [3 ounces Prosecco, 2 ounces Campari, 1 ounce ...\n",
       "Name: ingredients, Length: 5582, dtype: object"
      ]
     },
     "execution_count": 55,
     "metadata": {},
     "output_type": "execute_result"
    }
   ],
   "source": [
    "nutrition_df['ingredients']"
   ]
  },
  {
   "cell_type": "code",
   "execution_count": 52,
   "id": "f5fc2ccd-e5ed-4899-87c3-be728740ddbb",
   "metadata": {
    "tags": []
   },
   "outputs": [],
   "source": [
    "indr = nutrition_df[['ingredients', 'nutrients', 'dietary_restrictions']]"
   ]
  }
 ],
 "metadata": {
  "kernelspec": {
   "display_name": "Python 3 (ipykernel)",
   "language": "python",
   "name": "python3"
  },
  "language_info": {
   "codemirror_mode": {
    "name": "ipython",
    "version": 3
   },
   "file_extension": ".py",
   "mimetype": "text/x-python",
   "name": "python",
   "nbconvert_exporter": "python",
   "pygments_lexer": "ipython3",
   "version": "3.11.4"
  }
 },
 "nbformat": 4,
 "nbformat_minor": 5
}
